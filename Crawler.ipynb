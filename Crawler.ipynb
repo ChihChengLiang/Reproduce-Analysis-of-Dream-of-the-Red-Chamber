{
 "cells": [
  {
   "cell_type": "code",
   "execution_count": 1,
   "metadata": {
    "collapsed": true
   },
   "outputs": [],
   "source": [
    "import requests\n",
    "from bs4 import BeautifulSoup\n",
    "from urlparse import urljoin"
   ]
  },
  {
   "cell_type": "code",
   "execution_count": 2,
   "metadata": {
    "collapsed": true
   },
   "outputs": [],
   "source": [
    "ROOT_URL = \"https://zh.wikisource.org/\"\n",
    "\n",
    "r = requests.get(\"https://zh.wikisource.org/zh-hant/%E7%B4%85%E6%A8%93%E5%A4%A2\")"
   ]
  },
  {
   "cell_type": "code",
   "execution_count": 3,
   "metadata": {
    "collapsed": false
   },
   "outputs": [],
   "source": [
    "soup = BeautifulSoup(r.text)"
   ]
  },
  {
   "cell_type": "code",
   "execution_count": 4,
   "metadata": {
    "collapsed": false
   },
   "outputs": [
    {
     "name": "stdout",
     "output_type": "stream",
     "text": [
      "[<a href=\"/wiki/%E7%B4%85%E6%A8%93%E5%A4%A2/%E7%AC%AC001%E5%9B%9E\" title=\"紅樓夢/第001回\">第一回</a>, <a href=\"/wiki/%E7%B4%85%E6%A8%93%E5%A4%A2/%E7%AC%AC002%E5%9B%9E\" title=\"紅樓夢/第002回\">第二回</a>, <a href=\"/wiki/%E7%B4%85%E6%A8%93%E5%A4%A2/%E7%AC%AC003%E5%9B%9E\" title=\"紅樓夢/第003回\">第三回</a>, <a href=\"/wiki/%E7%B4%85%E6%A8%93%E5%A4%A2/%E7%AC%AC004%E5%9B%9E\" title=\"紅樓夢/第004回\">第四回</a>, <a href=\"/wiki/%E7%B4%85%E6%A8%93%E5%A4%A2/%E7%AC%AC005%E5%9B%9E\" title=\"紅樓夢/第005回\">第五回</a>]\n"
     ]
    }
   ],
   "source": [
    "url_list = soup.select(\".references-small a\")\n",
    "print url_list[:5]"
   ]
  },
  {
   "cell_type": "code",
   "execution_count": 5,
   "metadata": {
    "collapsed": false
   },
   "outputs": [
    {
     "name": "stdout",
     "output_type": "stream",
     "text": [
      "https://zh.wikisource.org/wiki/%E7%B4%85%E6%A8%93%E5%A4%A2/%E7%AC%AC001%E5%9B%9E\n",
      "https://zh.wikisource.org/wiki/%E7%B4%85%E6%A8%93%E5%A4%A2/%E7%AC%AC002%E5%9B%9E\n",
      "https://zh.wikisource.org/wiki/%E7%B4%85%E6%A8%93%E5%A4%A2/%E7%AC%AC003%E5%9B%9E\n",
      "https://zh.wikisource.org/wiki/%E7%B4%85%E6%A8%93%E5%A4%A2/%E7%AC%AC004%E5%9B%9E\n",
      "https://zh.wikisource.org/wiki/%E7%B4%85%E6%A8%93%E5%A4%A2/%E7%AC%AC005%E5%9B%9E\n"
     ]
    }
   ],
   "source": [
    "for a_tag in url_list[:5]:\n",
    "    url = urljoin(ROOT_URL, a_tag.attrs[\"href\"])\n",
    "    print url"
   ]
  },
  {
   "cell_type": "code",
   "execution_count": 6,
   "metadata": {
    "collapsed": false
   },
   "outputs": [
    {
     "data": {
      "text/plain": [
       "'https://zh.wikisource.org/wiki/%E7%B4%85%E6%A8%93%E5%A4%A2/%E7%AC%AC005%E5%9B%9E'"
      ]
     },
     "execution_count": 6,
     "metadata": {},
     "output_type": "execute_result"
    }
   ],
   "source": [
    "url"
   ]
  },
  {
   "cell_type": "code",
   "execution_count": 7,
   "metadata": {
    "collapsed": true
   },
   "outputs": [],
   "source": [
    "chapter = requests.get(url)"
   ]
  },
  {
   "cell_type": "code",
   "execution_count": 8,
   "metadata": {
    "collapsed": false
   },
   "outputs": [],
   "source": [
    "chapter_soup = BeautifulSoup(chapter.text)\n",
    "main_text_soup = chapter_soup.select(\"#mw-content-text\")[0]"
   ]
  },
  {
   "cell_type": "code",
   "execution_count": 9,
   "metadata": {
    "collapsed": false
   },
   "outputs": [
    {
     "data": {
      "text/plain": [
       "[<a href=\"/wiki/%E7%B4%85%E6%A8%93%E5%A4%A2/%E7%AC%AC004%E5%9B%9E\" title=\"紅樓夢/第004回\">上一回</a>,\n",
       " <a href=\"/wiki/%E7%B4%85%E6%A8%93%E5%A4%A2\" title=\"紅樓夢\">回目录</a>,\n",
       " <a href=\"/wiki/%E7%B4%85%E6%A8%93%E5%A4%A2/%E7%AC%AC006%E5%9B%9E\" title=\"紅樓夢/第006回\">下一回</a>,\n",
       " <a href=\"/wiki/%E7%B4%85%E6%A8%93%E5%A4%A2/%E7%AC%AC004%E5%9B%9E\" title=\"紅樓夢/第004回\">上一回</a>,\n",
       " <a href=\"/wiki/%E7%B4%85%E6%A8%93%E5%A4%A2\" title=\"紅樓夢\">回目录</a>,\n",
       " <a href=\"/wiki/%E7%B4%85%E6%A8%93%E5%A4%A2/%E7%AC%AC006%E5%9B%9E\" title=\"紅樓夢/第006回\">下一回</a>,\n",
       " <table class=\"licenseFrame\" style=\"border-collapse:collapse; empty-cells:hide; width:100%; margin:0.50em auto; background-color:#F9F9F9; border:2px solid #93A6C0; clear:both;\">\n",
       " <tr>\n",
       " <td style=\"width:48px; padding:0.5em;\"><a class=\"image\" href=\"/wiki/File:PD-icon.svg\"><img alt=\"PD-icon.svg\" data-file-height=\"196\" data-file-width=\"196\" height=\"48\" src=\"//upload.wikimedia.org/wikipedia/commons/thumb/6/62/PD-icon.svg/48px-PD-icon.svg.png\" srcset=\"//upload.wikimedia.org/wikipedia/commons/thumb/6/62/PD-icon.svg/72px-PD-icon.svg.png 1.5x, //upload.wikimedia.org/wikipedia/commons/thumb/6/62/PD-icon.svg/96px-PD-icon.svg.png 2x\" width=\"48\"/></a></td>\n",
       " <td style=\"width:100%; padding:0.5em;\">本作品在全世界都属于<b><a class=\"extiw\" href=\"//zh.wikipedia.org/wiki/%E5%85%AC%E6%9C%89%E9%A2%86%E5%9F%9F\" title=\"w:公有领域\">公有领域</a></b>，因为作者逝世已经超过100年，并且于1923年1月1日之前出版。</td>\n",
       " </tr>\n",
       " </table>,\n",
       " <a class=\"image\" href=\"/wiki/File:PD-icon.svg\"><img alt=\"PD-icon.svg\" data-file-height=\"196\" data-file-width=\"196\" height=\"48\" src=\"//upload.wikimedia.org/wikipedia/commons/thumb/6/62/PD-icon.svg/48px-PD-icon.svg.png\" srcset=\"//upload.wikimedia.org/wikipedia/commons/thumb/6/62/PD-icon.svg/72px-PD-icon.svg.png 1.5x, //upload.wikimedia.org/wikipedia/commons/thumb/6/62/PD-icon.svg/96px-PD-icon.svg.png 2x\" width=\"48\"/></a>,\n",
       " <a class=\"extiw\" href=\"//zh.wikipedia.org/wiki/%E5%85%AC%E6%9C%89%E9%A2%86%E5%9F%9F\" title=\"w:公有领域\">公有领域</a>]"
      ]
     },
     "execution_count": 9,
     "metadata": {},
     "output_type": "execute_result"
    }
   ],
   "source": [
    "main_text_soup.findAll([\"a\", \"table\"])"
   ]
  },
  {
   "cell_type": "code",
   "execution_count": 10,
   "metadata": {
    "collapsed": true
   },
   "outputs": [],
   "source": [
    "for unused_tag in main_text_soup.findAll([\"a\", \"table\"]): unused_tag.extract()"
   ]
  },
  {
   "cell_type": "code",
   "execution_count": 11,
   "metadata": {
    "collapsed": false
   },
   "outputs": [
    {
     "name": "stdout",
     "output_type": "stream",
     "text": [
      "　　\n",
      "\n",
      "第五回　開生面夢演紅樓夢　立新場情傳幻境情\n",
      "　　題曰：\n",
      "　　　　春困葳蕤擁繡衾，恍隨仙子到紅塵；問誰幻入華胥景，千古風流造業人。\n",
      "　　第四回中既將薛家母子在榮府內寄居等事略已表明，此回則暫不能寫矣。\n",
      "　　如今且說林黛玉自在榮府以來，賈母萬般憐愛，寢食起居，一如寶玉，迎春，探春，惜春三個親孫女倒且靠後，便是寶玉和黛玉二人之親密友愛處，亦自較別個不同，日則同行同坐，夜則同息同止，真是言和意順，略無參商。不想如今忽然來了一個薛寶釵，年歲雖大不多，然品格端方，容貌豐美，人多謂黛玉所不及。而且寶釵行為豁達，隨分從時，不比黛玉孤高自許，目無下塵，故比黛玉大得下人之心。便是那些小丫頭子們，亦多喜與寶釵去頑。因此黛玉心中便有些悒鬱不忿之意，寶釵卻渾然不覺。那寶玉亦在孩提之間，況自天性所稟來的一片愚拙偏僻，視姊妹弟兄皆出一意，並無親疏遠近之別。其中因與黛玉同隨賈母一處坐臥，故略比別個姊妹熟慣些。既熟慣，則更覺親密，既親密，則不免一時有求全之毀，不虞之隙。這日不知為何，他二人言語有些不合起來，黛玉又氣的獨在房中垂淚，寶玉又自悔言語冒撞，前去俯就，那黛玉方漸漸的回轉來。\n",
      "　　因東邊寧府中花園內梅花盛開，賈珍之妻尤氏乃治酒，請賈母，邢夫人，王夫人等賞花。是日先攜了賈蓉之妻，二人來面請。賈母等於早飯後過來，就在會芳園游頑，先茶後酒，不過皆是寧榮二府女眷家宴小集，並無別樣新文趣事可記。\n",
      "　　一時寶玉倦怠，欲睡中覺，賈母命人好生哄著，歇一回再來。賈蓉之妻秦氏便忙笑回道：“我們這裏有給寶叔收拾下的屋子，老祖宗放心，只管交與我就是了。”又向寶玉的奶娘丫鬟等道：“嬤嬤，姐姐們，請寶叔隨我這裡來。”賈母素知秦氏是個極妥當的人，生的裊娜纖巧，行事又溫柔和平，乃重孫媳中第一個得意之人，見他去安置寶玉，自是安穩的。\n",
      "　　當下秦氏引了一簇人來至上房內間。寶玉抬頭看見一幅畫貼在上面，畫的人物固好，其故事乃是《燃藜圖》，也不看係何人所畫，心中便有些不快。又有一幅對聯，寫的是：\n",
      "　　世事洞明皆學問，人情練達即文章。\n",
      "　　及看了這兩句，縱然室宇精美，舖陳華麗，亦斷斷不肯在這裡了，忙說：“快出去！快出去！”秦氏聽了笑道：“這裏 還不好，可往那裏去呢？不然往我屋裏去吧。”寶玉點頭微笑。有一個嬤嬤說道：“那裏有個叔叔往侄兒房里裏睡覺的 理？”秦氏笑道：“噯喲喲，不怕他惱。他能多大呢，就忌諱這些個！上月你沒看見我那個兄弟來了，雖然與寶叔同年，兩個 人若站在一處，只怕那個還高些呢。”寶玉道：“我怎麼沒見過？你帶他來我瞧瞧。”眾人笑道：“隔著二三十里，往那裏帶 去，見的日子有呢。”說著大家來至秦氏房中。剛至房門，便有一股細細的甜香襲人而來。寶玉覺得眼餳骨軟，連說”好 香！”入房向壁上看時，有唐伯虎畫的《海棠春睡圖》，兩邊有宋學士秦太虛寫的一副對聯，其聯云：\n",
      "　　嫩寒鎖夢因春冷，芳氣襲人是酒香。\n",
      "　　案上設著武則天當日鏡室中設的寶鏡，一邊擺著飛燕立著舞過的金盤，盤內盛著安祿山擲過傷了太真乳的木瓜。上面設著壽昌公主於含章殿下臥的榻，懸的是同昌公主製的聯珠帳。寶玉含笑連說：“這裏好！”秦氏笑道：“我這屋子大約神仙也可以住得了。”說著親自展開了西子浣過的紗衾，移了紅娘抱過的鴛枕。於是眾奶母伏侍寶玉臥好，款款散了，只留襲人，媚人，晴雯，麝月四個丫鬟為伴。秦氏便吩咐小丫鬟們，好生在廊檐下看著貓兒狗兒打架。\n",
      "　　那寶玉剛合上眼，便惚惚的睡去，猶似秦氏在前，遂悠悠蕩蕩，隨了秦氏，至一所在。但見朱欄白石，綠樹清溪，真是人跡稀逢，飛塵不到。寶玉在夢中歡喜，想道：“這個去處有趣，我就在這裏過一生，縱然失了家也願意，強如天天被父母師傅打呢。”正胡思之間，忽聽山後有人作歌曰：\n",
      "　　春夢隨雲散，飛花逐水流；寄言眾兒女，何必覓閒愁。\n",
      "　　寶玉聽了是女子的聲音。歌聲未息，早見那邊走出一個人來，蹁躚裊娜，端的與人不同。有賦為證：\n",
      "　　方離柳塢，乍出花房。\n",
      "　　但行處，鳥驚庭樹，\n",
      "　　將到時，影度迴廊。\n",
      "　　仙袂乍飄兮，聞麝蘭之馥郁，\n",
      "　　荷衣欲動兮，聽環佩之鏗鏘。\n",
      "　　靨笑春桃兮，雲堆翠髻，\n",
      "　　唇綻櫻顆兮，榴齒含香。\n",
      "　　纖腰之楚楚兮，迴風舞雪，\n",
      "　　珠翠之輝輝兮，滿額鵝黃。\n",
      "　　出沒花間兮，宜嗔宜喜，\n",
      "　　徘徊池上兮，若飛若揚。\n",
      "　　蛾眉顰笑兮，將言而未語，\n",
      "　　蓮步乍移兮，待止而欲行。\n",
      "　　羡彼之良質兮，冰清玉潤，\n",
      "　　羡彼之華服兮，閃灼文章。\n",
      "　　愛彼之貌容兮，香培玉琢，\n",
      "　　美彼之態度兮，鳳翥龍翔。\n",
      "　　其素若何，春梅綻雪。\n",
      "　　其潔若何，秋菊被霜。\n",
      "　　其靜若何，松生空谷。\n",
      "　　其艷若何，霞映澄塘。\n",
      "　　其文若何，龍游曲沼。\n",
      "　　其神若何，月射寒江。\n",
      "　　應慚西子，實愧王嬙。\n",
      "　　奇矣哉，生於孰地，\n",
      "　　來自何方，信矣乎，\n",
      "　　瑤池不二，紫府無雙。\n",
      "　　果何人哉？如斯之美也！\n",
      "　　寶玉見是一個仙姑，喜的忙來作揖問道：“神仙姐姐不知從那裏來，如今要往那裏去？也不知這是何處，望乞攜帶攜帶。”那仙姑笑道：“吾居離恨天之上，灌愁海之中，乃放春山遣香洞太虛幻境警幻仙姑是也：司人間之風情月債，掌塵世之女怨男癡。因近來風流冤孽，纏綿於此處，是以前來訪察機會，布散相思。今忽與爾相逢，亦非偶然。此離吾境不遠，別無他物，僅有自採仙茗一盞，親釀美酒一瓮，素練魔舞歌姬數人，新填「紅樓夢」仙曲十二支，試隨吾一游否？”寶玉聽說，便忘了秦氏在何處，竟隨了仙姑，至一所在，有石牌橫建，上書「太虛幻境」四個大字，兩邊一副對聯，乃是：\n",
      "　　假作真時真亦假，無為有處有還無。\n",
      "　　轉過牌坊，便是一座宮門，上面橫書四個大字，道是：“孽海情天”。又有一副對聯，大書云：\n",
      "　　厚地高天，堪歎古今情不盡；癡男怨女，可憐風月債難償。\n",
      "　　寶玉看了，心下自思道：“原來如此。但不知何為「古今之情」，何為「風月之債」？從今倒要領略領略。”寶玉只顧如此一想，不料早把些邪魔招入膏肓了。當下隨了仙姑進入二層門內，至兩邊配殿，皆有匾額對聯，一時看不盡許多，惟見有幾處寫的是：「癡情司」，「結怨司」，「朝啼司」，「夜怨司」，「春感司」，「秋悲司」。看了，因向仙姑道：“敢煩仙姑引我到那各司中遊玩遊玩，不知可使得？”仙姑道：“此各司中皆貯的是普天之下所有的女子過去未來的簿冊，爾凡眼塵軀，未便先知的。”寶玉聽了，那裏肯依，復央之再三。仙姑無奈，說：“也罷，就在此司內略隨喜隨喜罷了。”寶玉喜不自勝，抬頭看這司的匾上，乃是「薄命司」三字，兩邊對聯寫的是：\n",
      "　　春恨秋悲皆自惹，花容月貌為誰妍。\n",
      "　　寶玉看了，便知感歎。進入門來，只見有十數個大櫥，皆用封條封著。看那封條上，皆是各省的地名。寶玉一心只揀自己的家鄉封條看，遂無心看別省的了。只見那邊櫥上封條上大書七字云：“金陵十二釵正冊”。寶玉問道：“何為‘金陵十二釵正冊’？”警幻道：“即貴省中十二冠首女子之冊，故為‘正冊’。”寶玉道：“常聽人說，金陵極大，怎麼只十二個女子？如今單我家裏，上上下下，就有幾百女孩子呢。”警幻冷笑道：“貴省女子固多，不過擇其緊要者錄之。下邊二櫥則又次之。餘者庸常之輩，則無冊可錄矣。”寶玉聽說，再看下首二櫥上，果然寫著”金陵十二釵副冊”，又一個寫著”金陵十二釵又副冊”。寶玉便伸手先將”又副冊”櫥開了，拿出一本冊來，揭開一看，只見這首頁上畫著一幅畫，又非人物，也無山水，不過是水墨滃染的滿紙烏雲濁霧而已。后有幾行字跡，寫的是：\n",
      "　　霽月難逢、彩雲易散，心比天高、身為下賤；風流靈巧招人怨，壽夭多因毀謗生、多情公子空懸念。\n",
      "　　寶玉看了，又見後面畫著一簇鮮花，一床破席，也有几句言詞，寫道是：\n",
      "　　枉自溫柔和順，空云似桂如蘭；堪羡優伶有福，誰知公子無緣。\n",
      "　　寶玉看了不解。遂擲下這個，又去開了副冊櫥門，拿起一本冊來，揭開看時，只見畫著一株桂花，下面有一池沼，其中水涸泥乾，蓮枯藕敗，後面書云：\n",
      "　　根並荷花一莖香，生平遭際實堪傷；自從兩地生孤木，致使香魂空返鄉。\n",
      "　　寶玉看了仍不解。便又擲了，再去取”正冊”看，只見頭一頁上便畫著兩株枯木，木上懸著一圍玉帶，又有一堆雪，雪下一股金簪。也有四句言詞，道是：\n",
      "　　可歎停機德，誰憐詠絮才；玉帶林中掛，金簪雪裏埋。\n",
      "　　寶玉看了仍不解。待要問時，情知他必不肯洩漏，待要丟下，又不捨。遂又往後看時，只見畫著一張弓，弓上挂著香櫞。也有一首歌詞云：\n",
      "　　二十年來辨是非，榴花開處照宮闈；三春爭及初春景，虎兔相逢大夢歸。\n",
      "　　後面又畫著兩人放風箏，一片大海，一隻大船，船中有一女子掩面泣涕之狀。也有四句寫云：\n",
      "　　才自精明志自高，生於末世運偏淆；清明涕送江邊望，千里東風一夢遙。\n",
      "　　後面又畫幾縷飛雲，一灣逝水。其詞曰：\n",
      "　　富貴又何為，襁褓之間父母違；展眼吊斜暉，湘江水逝楚雲飛。\n",
      "　　後面又畫著一塊美玉，落在泥垢之中。其斷語云：\n",
      "　　欲潔何曾潔，云空未必空；可憐金縷質，終陷泥淖中。\n",
      "　　後面忽見畫著個惡狼，追撲一美女，欲啖之意。其書云：\n",
      "　　子係中山狼，得志便猖狂；金閨花柳質，一載赴黃粱。\n",
      "　　後面便是一所古廟，裏面有一美人在內看經獨坐。其判云：\n",
      "　　勘破三春景不長，緇衣頓改昔年妝；可憐繡戶侯門女，獨臥青燈古佛旁。\n",
      "　　後面便是一片冰山，上面有一只雌鳳。其判曰：\n",
      "　　凡鳥偏從末世來，都知愛慕此生才；一從二令三人木，哭向金陵事更哀。\n",
      "　　後面又是一座荒村野店，有一美人在那里紡績。其判云：\n",
      "　　勢敗休云貴，家亡莫論親；偶因濟村婦，巧得遇恩人。\n",
      "　　後面又畫著一盆茂蘭，旁有一位鳳冠霞帔的美人。也有判云：\n",
      "　　桃李春風結子完，到頭誰似一盆蘭；如冰水好空相妒，枉與他人作笑談。\n",
      "　　後面又畫著高樓大廈，有一美人懸梁自縊。其判云：\n",
      "　　情天情海幻情身，情既相逢必主淫；漫言不肖皆榮出，造釁開端實在寧。\n",
      "　　寶玉還欲看時，那仙姑知他天分高明，性情穎慧，恐把仙機洩漏，遂掩了卷冊，笑向寶玉道：“且隨我去游玩奇景，何必在此打這悶葫蘆！”\n",
      "　　寶玉恍恍惚惚，不覺棄了卷冊，又隨了警幻來至後面。但見珠簾繡幕，畫棟雕檐，說不盡那光搖朱戶金舖地，雪照瓊窗玉作宮。更見仙花馥郁，異草芬芳，真好個所在。又聽警幻笑道：“你們快出來迎接貴客！”一語未了，只見房中又走出幾個仙子來，皆是荷袂蹁躚，羽衣飄舞，姣若春花，媚如秋月。一見了寶玉，都怨謗警幻道：“我們不知係何‘貴客’，忙的接了出來！姐姐曾說今日今時必有絳珠妹子的生魂前來游玩，故我等久待。何故反引這濁物來污染這清淨女兒之境？”\n",
      "　　寶玉聽如此說，便嚇得欲退不能退，果覺自形污穢不堪。警幻忙攜住寶玉的手，向眾姊妹道：“你等不知原委：今日原欲往榮府去接絳珠，适從寧府所過，偶遇寧榮二公之靈，囑吾云：‘吾家自國朝定鼎以來，功名奕世，富貴傳流，雖歷百年，奈運終數盡，不可挽回者。故遺之子孫雖多，竟無可以繼業。其中惟嫡孫寶玉一人，稟性乖張，生性怪譎，雖聰明靈慧，略可望成，無奈吾家運數合終，恐無人規引入正。幸仙姑偶來，萬望先以情欲聲色等事警其癡頑，或能使彼跳出迷人圈子，然後入於正路，亦吾兄弟之幸矣。’如此囑吾，故發慈心，引彼至此。先以彼家上中下三等女子之終身冊籍，令彼熟玩，尚未覺悟，故引彼再至此處，令其再歷飲饌聲色之幻，或冀將來一悟，亦未可知也。”\n",
      "　　說畢，攜了寶玉入室。但聞一縷幽香，竟不知其所焚何物。寶玉遂不禁相問。警幻冷笑道：“此香塵世中既無，爾何能知！此香乃係諸名山胜境內初生異卉之精，合各种寶林珠樹之油所製，名‘群芳髓’。”寶玉聽了，自是羡慕而已。大家入座，小丫鬟捧上茶來。寶玉自覺清香異味，純美非常，因又問何名。警幻道：“此茶出在放春山遣香洞，又以仙花靈葉上所帶之宿露而烹，此茶名曰‘千紅一窟’。”寶玉聽了，點頭稱賞。因看房內，瑤琴，寶鼎，古畫，新詩，無所不有，更喜窗下亦有唾絨，奩間時漬粉污。壁上也見懸著一副對聯，書云：\n",
      "　　幽微靈秀地，無可奈何天。\n",
      "　　寶玉看畢，無不羡慕。因又請問眾仙姑姓名：一名癡夢仙姑，一名鐘情大士，一名引愁金女，一名度恨菩提，各各道號不一。少刻，有小丫鬟來調桌安椅，設擺酒饌。真是：瓊漿滿泛玻璃盞，玉液濃斟琥珀杯。更不用再說那肴饌之盛。寶玉因聞得此酒清香甘冽，異乎尋常，又不禁相問。警幻道：“此酒乃以百花之蕊，萬木之汁，加以麟髓之醅，鳳乳之麯釀成，因名為‘萬艷同杯’。”寶玉稱賞不迭。\n",
      "　　飲酒間，又有十二個舞女上來，請問演何詞曲。警幻道：“就將新製《紅樓夢》十二支演上來。”舞女們答應了，便輕敲檀板，款按銀箏，聽他歌道是：\n",
      "　　開辟鴻蒙……\n",
      "　　方歌了一句，警幻便說道：“此曲不比塵世中所填傳奇之曲，必有生旦淨末之則，又有南北九宮之限。此或詠歎一人，或感懷一事，偶成一曲，即可譜入管弦。若非個中人，不知其中之妙。料爾亦未必深明此調。若不先閱其稿，後聽其歌，翻成嚼蠟矣。”說畢，回頭命小丫鬟取了《紅樓夢》原稿來，遞與寶玉。寶玉接來，一面目視其文，一面耳聆其歌曰：\n",
      "　　[紅樓夢引子]開辟鴻蒙，誰為情種？都只為風月情濃；趁著這奈何天，傷懷日，寂寥時，試遣愚衷，因此上演出這悲金悼玉的「紅樓夢」。\n",
      "　　[終身誤]\n",
      "　　都道是金玉良緣，俺只念木石前盟。空對著，山中高士晶瑩雪；終不忘，世外仙姝寂寞林。歎世間，美中不足今方信。縱然是舉案齊眉，到底意難平。\n",
      "　　[枉凝眉]\n",
      "　　一個是閬苑仙葩，一個是美玉無瑕。若說沒奇緣，今生偏又遇著他；若說有奇緣，如何心事終虛化？一個枉自嗟呀，一個空勞牽掛；一個是水中月，一個是鏡中花。想眼中能有多少淚珠兒，怎經得秋流到冬，春流到夏？\n",
      "　　寶玉聽了此曲，散漫無稽，不見得好處，但其聲韻凄惋，竟能銷魂醉魄。因此也不察其原委，問其來歷，就暫以此釋悶而已。因又看下道：\n",
      "　　[恨無常]\n",
      "　　喜榮華正好，恨無常又到。眼睜睜，把萬事全拋；蕩悠悠，把芳魂消耗。望家鄉，路遠山高。故向爹娘夢裏相尋告：兒命已入黃泉，天倫呵，須要退步抽身早。\n",
      "　　[分骨肉]\n",
      "　　一帆風雨路三千，把骨肉家園齊來拋閃。恐哭損殘年，告爹娘，休把兒懸念。自古窮通皆有定，離合豈無緣？從今分兩地，各自保平安。奴去也，莫牽連。\n",
      "　　[樂中悲]\n",
      "　　襁褓中，父母歎雙亡，縱居那綺羅叢，誰知嬌養？幸生來，英豪闊大寬宏量，從未將兒女私情略縈心上，好一似，霽月光風耀玉堂。廝配得才貌仙郎，博得個地久天長，凖折得幼年時坎坷形狀。終久是雲散高唐，水涸湘江。這是塵寰中消長數應當，何必枉悲傷。\n",
      "　　[世難容]\n",
      "　　氣質美如蘭，才華阜比仙，天生成癖人皆罕。你道是啖肉食腥膻，視綺羅俗厭；卻不知太高人愈妒，過潔世同嫌。可歎這，青燈古殿人將老；辜負了，紅粉朱樓春色闌；到頭來，依舊是風塵肮髒違心願。好一似，白玉無瑕遭泥陷；又何須，王孫公子歎無緣。\n",
      "　　[喜冤家]\n",
      "　　中山狼，無情獸，全不念當日根由，一味的驕奢淫蕩貪還構。覷著那，侯門艷質同蒲柳；作踐的，公府千金似下流。歎幽魂艷魄，一載蕩悠悠。\n",
      "　　[虛花悟]\n",
      "　　將那三春看破，桃紅柳綠待如何？把這韶華打滅，覓那清淡天和。說什麼，天上夭桃盛，雲中杏蕊多；到頭來，誰把秋捱過？則看那，白楊村里人嗚咽，青楓林下鬼吟哦；更兼著，連天衰草遮墳墓。這的是，昨貧今富人勞碌，春榮秋謝花折磨。似這般，生關死劫誰能躲？聞說道，西方寶樹喚婆娑，上結著長生果。\n",
      "　　[聰明累]\n",
      "　　機關算盡太聰明，反算了卿卿性命。生前心已碎，死後性空靈。家富人寧，終有個家亡人散各奔騰。枉費了，意懸懸半世心；好一似，蕩悠悠三更夢。忽喇喇似大廈傾，昏慘慘似燈將盡。呀，一場歡喜忽悲辛；歎人世，終難定。\n",
      "　　[留餘慶]\n",
      "　　留餘慶，留餘慶，忽遇恩人；幸娘親，幸娘親，積得陰功。勸人生，濟困扶窮，休似俺那愛錢忘骨肉的狠舅奸兄。正是加減乘除，上有蒼穹。\n",
      "　　[晚韶華]\n",
      "　　鏡里恩情，更哪堪那夢裏功名；那美韶華去之何迅，再休提繡帳鴛衾。只這帶珠冠，披鳳襖，也抵不了無常性命。雖說是，人生莫受老來貧，也須要陰騭積兒孫。氣昂昂頭戴簪纓，光燦燦胸懸金印；威赫赫爵祿高登，昏慘慘黃泉路近。問古來將相可還存？也只是虛名兒教後人敬。\n",
      "　　[好事終]\n",
      "　　畫梁晝盡落香塵，擅風情，秉月貌，便是敗家的根本；箕裘頹墮皆從敬，家事消亡首罪寧，宿孽總因情。\n",
      "　　[收尾：飛鳥盡投林]\n",
      "　　為官的、家業凋零，富貴的、金銀散盡，有恩的、死裏逃生，無情的、分明報應，欠命的、命已還，欠淚的、淚已盡。冤冤相報實非輕，分離聚合皆前定；欲知命短問前生，老來富貴也真僥幸。看破的、遁入空門，痴迷的、枉送了性命；好一似食鳥盡投林，落了片白茫茫大地真乾淨。\n",
      "　　歌畢，還要歌副曲。警幻見寶玉甚無趣味，因歎：“癡兒竟尚未悟！”那寶玉忙止歌姬不必再唱，自覺朦朧恍惚，告醉求臥。警幻便命撤去殘席，送寶玉至一香閨繡閣之中，其間舖陳之盛，乃素所未見之物。更可駭者，早有一位女子在內，其鮮艷嫵媚，有似乎寶釵，風流裊娜，則又如黛玉。正不知何意，忽警幻道：“塵世中多少富貴之家，那些綠窗風月，繡閣煙霞，皆被淫污紈袴與那些流蕩女子悉皆玷辱。更可恨者，自古來多少輕薄浪子，皆以‘好色不淫’為飾，又以‘情而不淫’作案，此皆飾非掩醜之語也。好色即淫，知情更淫。是以巫山之會，雲雨之歡，皆由既悅其色，復戀其情所致也。吾所愛汝者，乃天下古今第一淫人也”\n",
      "　　寶玉聽了，唬的忙答道：“仙姑差了。我因懶於讀書，家父母尚每垂訓飭，豈敢再冒‘淫’字。況且年紀尚小，不知‘淫’字為何物。”警幻道：“非也。淫雖一理，意則有別。如世之好淫者，不過悅容貌，喜歌舞，調笑無厭，雲雨無時，恨不能盡天下之美女供我片時之趣興，此皆皮膚淫濫之蠢物耳。如爾則天分中生成一段癡情，吾輩推之為‘意淫’。‘意淫’二字，惟心會而不可口傳，可神通而不可語達。汝今獨得此二字，在閨閣中，固可為良友，然於世道中未免迂闊怪詭，百口嘲謗，萬目睚眥。今既遇令祖寧榮二公剖腹深囑，吾不忍君獨為我閨閣增光，見棄於世道，是以特引前來，醉以靈酒，沁以仙茗，警以妙曲，再將吾妹一人，乳名兼美字可卿者，許配于汝。今夕良時，即可成姻。不過令汝領略此仙閨幻境之風光尚如此，何況塵境之情景哉？而今後勁萬萬解釋，改悟前情，留意於孔孟之間，委身於經濟之道。”說畢便秘授以雲雨之事，推寶玉入房，將門掩上自去。\n",
      "　　那寶玉恍恍惚惚，依警幻所囑之言，未免有兒女之事，難以盡述。至次日，便柔情繾綣，軟語溫存，與可卿難解難分。因二人攜手出去遊頑之時，忽至一個所在，但見荊榛遍地，狼虎同群，迎面一道黑溪阻路，並無橋梁可通。正在猶豫之間，忽見警幻後面追來，告道：“快休前進，作速回頭要緊！”寶玉忙止步問道：“此係何處？”警幻道：“此即迷津也。深有萬丈，遙亙千里，中無舟楫可通，只有一個木筏，乃木居士掌舵，灰侍者撐篙，不受金銀之謝，但遇有緣者渡之。爾今偶游至此，設如墮落其中，則深負我從前諄諄警戒之語矣。”話猶未了，只聽迷津內水響如雷，竟有許多夜叉海鬼將寶玉拖將下去。嚇得寶玉汗下如雨，一面失聲喊叫：“可卿救我！”嚇得襲人輩眾丫鬟忙上來摟住，叫：“寶玉別怕，我們在這裏！”\n",
      "　　卻說秦氏正在房外囑咐小丫頭們好生看著貓兒狗兒打架，忽聽寶玉在夢中喚他的小名，因納悶道：“我的小名這裏從沒人知道的，他如何知道，在夢裏叫出來？”正是：\n",
      "　　一場幽夢同誰訴，千古情人獨我知。\n",
      "\n",
      "　　\n",
      "\n",
      "\n",
      "\n",
      "\n",
      "\n",
      "\n"
     ]
    }
   ],
   "source": [
    "print main_text_soup.text"
   ]
  },
  {
   "cell_type": "code",
   "execution_count": 17,
   "metadata": {
    "collapsed": true
   },
   "outputs": [],
   "source": [
    "def extract_chapter(chapter_url):\n",
    "    chapter = requests.get(chapter_url)\n",
    "    chapter_soup = BeautifulSoup(chapter.text)\n",
    "    main_text_soup = chapter_soup.select(\"#mw-content-text\")[0]\n",
    "    for unused_tag in main_text_soup.findAll([\"a\", \"table\", \"h2\", \"ol\"]): \n",
    "        unused_tag.extract()\n",
    "    return main_text_soup.text"
   ]
  },
  {
   "cell_type": "code",
   "execution_count": 20,
   "metadata": {
    "collapsed": false
   },
   "outputs": [
    {
     "name": "stdout",
     "output_type": "stream",
     "text": [
      "1 https://zh.wikisource.org/wiki/%E7%B4%85%E6%A8%93%E5%A4%A2/%E7%AC%AC001%E5%9B%9E 第一回　甄士隱夢幻識通靈　賈雨村風塵懷閨\n",
      "2 https://zh.wikisource.org/wiki/%E7%B4%85%E6%A8%93%E5%A4%A2/%E7%AC%AC002%E5%9B%9E 第二回　賈夫人仙逝揚州城　冷子興演說榮國\n",
      "3 https://zh.wikisource.org/wiki/%E7%B4%85%E6%A8%93%E5%A4%A2/%E7%AC%AC003%E5%9B%9E 第三回　金陵城起複賈雨村　榮國府收養林黛\n",
      "4 https://zh.wikisource.org/wiki/%E7%B4%85%E6%A8%93%E5%A4%A2/%E7%AC%AC004%E5%9B%9E 第四回　薄命女偏逢薄命郎　葫蘆僧亂判葫蘆\n",
      "5 https://zh.wikisource.org/wiki/%E7%B4%85%E6%A8%93%E5%A4%A2/%E7%AC%AC005%E5%9B%9E 第五回　開生面夢演紅樓夢　立新場情傳幻境\n",
      "6 https://zh.wikisource.org/wiki/%E7%B4%85%E6%A8%93%E5%A4%A2/%E7%AC%AC006%E5%9B%9E 第六回　賈寶玉初試雲雨情　劉姥姥一進榮國\n",
      "7 https://zh.wikisource.org/wiki/%E7%B4%85%E6%A8%93%E5%A4%A2/%E7%AC%AC007%E5%9B%9E 第七回　送宮花周瑞嘆英蓮　談肄業秦鐘結寶\n",
      "8 https://zh.wikisource.org/wiki/%E7%B4%85%E6%A8%93%E5%A4%A2/%E7%AC%AC008%E5%9B%9E 第八回　薛寶釵小恙梨香院　賈寶玉大醉絳芸\n",
      "9 https://zh.wikisource.org/wiki/%E7%B4%85%E6%A8%93%E5%A4%A2/%E7%AC%AC009%E5%9B%9E 第九回　戀風流情友入家塾　起嫌疑頑童鬧學\n",
      "10 https://zh.wikisource.org/wiki/%E7%B4%85%E6%A8%93%E5%A4%A2/%E7%AC%AC010%E5%9B%9E 第十回　金寡婦貪利權受辱　張太醫論病細窮\n",
      "11 https://zh.wikisource.org/wiki/%E7%B4%85%E6%A8%93%E5%A4%A2/%E7%AC%AC011%E5%9B%9E 第十一回　慶壽辰宁府排家宴　見熙鳳賈瑞起\n",
      "12 https://zh.wikisource.org/wiki/%E7%B4%85%E6%A8%93%E5%A4%A2/%E7%AC%AC012%E5%9B%9E 第十二回　王熙鳳毒設相思局　賈天祥正照風\n",
      "13 https://zh.wikisource.org/wiki/%E7%B4%85%E6%A8%93%E5%A4%A2/%E7%AC%AC013%E5%9B%9E 第十三回　秦可卿死封龍禁尉　王熙鳳協理宁\n",
      "14 https://zh.wikisource.org/wiki/%E7%B4%85%E6%A8%93%E5%A4%A2/%E7%AC%AC014%E5%9B%9E 第十四回　林如海捐館揚州城　賈寶玉路謁北\n",
      "15 https://zh.wikisource.org/wiki/%E7%B4%85%E6%A8%93%E5%A4%A2/%E7%AC%AC015%E5%9B%9E 第十五回　王鳳姐弄權鐵檻寺　秦鯨卿得趣饅\n",
      "16 https://zh.wikisource.org/wiki/%E7%B4%85%E6%A8%93%E5%A4%A2/%E7%AC%AC016%E5%9B%9E 第十六回　賈元春才選鳳藻宮　秦鯨卿夭逝黃\n",
      "17 https://zh.wikisource.org/wiki/%E7%B4%85%E6%A8%93%E5%A4%A2/%E7%AC%AC017%E5%9B%9E 第十七回　大观園試才題對額　賈寶玉機敏動\n",
      "18 https://zh.wikisource.org/wiki/%E7%B4%85%E6%A8%93%E5%A4%A2/%E7%AC%AC018%E5%9B%9E 第十八回　林黛玉誤剪香囊袋　賈元春歸省慶\n",
      "19 https://zh.wikisource.org/wiki/%E7%B4%85%E6%A8%93%E5%A4%A2/%E7%AC%AC019%E5%9B%9E 第十九回　情切切良宵花解語　意綿綿靜日玉\n",
      "20 https://zh.wikisource.org/wiki/%E7%B4%85%E6%A8%93%E5%A4%A2/%E7%AC%AC020%E5%9B%9E 第二十回 王熙鳳正言彈妒意　林黛玉俏語謔\n",
      "21 https://zh.wikisource.org/wiki/%E7%B4%85%E6%A8%93%E5%A4%A2/%E7%AC%AC021%E5%9B%9E 第二十一回　賢襲人嬌嗔箴寶玉　俏平兒軟語\n",
      "22 https://zh.wikisource.org/wiki/%E7%B4%85%E6%A8%93%E5%A4%A2/%E7%AC%AC022%E5%9B%9E 第二十二回　聽曲文寶玉悟禪机　制燈迷賈政\n",
      "23 https://zh.wikisource.org/wiki/%E7%B4%85%E6%A8%93%E5%A4%A2/%E7%AC%AC023%E5%9B%9E 第二十三回　西廂記妙詞通戲語　牡丹亭艷曲\n",
      "24 https://zh.wikisource.org/wiki/%E7%B4%85%E6%A8%93%E5%A4%A2/%E7%AC%AC024%E5%9B%9E 第二十四回　醉金剛輕財尚義俠　痴女兒遺帕\n",
      "25 https://zh.wikisource.org/wiki/%E7%B4%85%E6%A8%93%E5%A4%A2/%E7%AC%AC025%E5%9B%9E 第二十五回　魘魔法姊弟逢五鬼　紅樓夢通靈\n",
      "26 https://zh.wikisource.org/wiki/%E7%B4%85%E6%A8%93%E5%A4%A2/%E7%AC%AC026%E5%9B%9E 第二十六回　蜂腰橋設言傳心事　瀟湘館春困\n",
      "27 https://zh.wikisource.org/wiki/%E7%B4%85%E6%A8%93%E5%A4%A2/%E7%AC%AC027%E5%9B%9E 第二十七回　滴翠亭楊妃戲彩蝶　埋香冢飛燕\n",
      "28 https://zh.wikisource.org/wiki/%E7%B4%85%E6%A8%93%E5%A4%A2/%E7%AC%AC028%E5%9B%9E 第二十八回　蔣玉菡情贈茜香羅　薛寶釵羞籠\n",
      "29 https://zh.wikisource.org/wiki/%E7%B4%85%E6%A8%93%E5%A4%A2/%E7%AC%AC029%E5%9B%9E 第二十九回　享福人福深還禱福　痴情女情重\n",
      "30 https://zh.wikisource.org/wiki/%E7%B4%85%E6%A8%93%E5%A4%A2/%E7%AC%AC030%E5%9B%9E 第三十回　寶釵借扇机帶雙敲　齡官划薔痴及\n",
      "31 https://zh.wikisource.org/wiki/%E7%B4%85%E6%A8%93%E5%A4%A2/%E7%AC%AC031%E5%9B%9E 第三十一回　撕扇子作千金一笑　因麒麟伏白\n",
      "32 https://zh.wikisource.org/wiki/%E7%B4%85%E6%A8%93%E5%A4%A2/%E7%AC%AC032%E5%9B%9E 第三十二回　訴肺腑心迷活寶玉　含恥辱情烈\n",
      "33 https://zh.wikisource.org/wiki/%E7%B4%85%E6%A8%93%E5%A4%A2/%E7%AC%AC033%E5%9B%9E 第三十三回　手足耽耽小動唇舌　不肖种种大\n",
      "34 https://zh.wikisource.org/wiki/%E7%B4%85%E6%A8%93%E5%A4%A2/%E7%AC%AC034%E5%9B%9E 第三十四回　情中情因情感妹妹　錯里錯以錯\n",
      "35 https://zh.wikisource.org/wiki/%E7%B4%85%E6%A8%93%E5%A4%A2/%E7%AC%AC035%E5%9B%9E 第三十五回　白玉釧親嘗蓮葉羹　黃金鶯巧結\n",
      "36 https://zh.wikisource.org/wiki/%E7%B4%85%E6%A8%93%E5%A4%A2/%E7%AC%AC036%E5%9B%9E 第三十六回　繡鴛鴦夢兆絳芸軒　識分定情悟\n",
      "37 https://zh.wikisource.org/wiki/%E7%B4%85%E6%A8%93%E5%A4%A2/%E7%AC%AC037%E5%9B%9E 第三十七回　秋爽齋偶結海棠社　蘅蕪苑夜擬\n",
      "38 https://zh.wikisource.org/wiki/%E7%B4%85%E6%A8%93%E5%A4%A2/%E7%AC%AC038%E5%9B%9E 第三十八回　林瀟湘魁奪菊花詩　薛蘅蕪諷和\n",
      "39 https://zh.wikisource.org/wiki/%E7%B4%85%E6%A8%93%E5%A4%A2/%E7%AC%AC039%E5%9B%9E 第三十九回　村老嫗謊談承色笑　癡情子實意\n",
      "40 https://zh.wikisource.org/wiki/%E7%B4%85%E6%A8%93%E5%A4%A2/%E7%AC%AC040%E5%9B%9E 第四十回　史太君兩宴大觀園　金鴛鴦三宣牙\n",
      "41 https://zh.wikisource.org/wiki/%E7%B4%85%E6%A8%93%E5%A4%A2/%E7%AC%AC041%E5%9B%9E 第四十一回　賈寶玉品茶攏翠庵　劉姥姥醉臥\n",
      "42 https://zh.wikisource.org/wiki/%E7%B4%85%E6%A8%93%E5%A4%A2/%E7%AC%AC042%E5%9B%9E 第四十二回　蘅蕪君蘭言解疑語　瀟湘子雅謔\n",
      "43 https://zh.wikisource.org/wiki/%E7%B4%85%E6%A8%93%E5%A4%A2/%E7%AC%AC043%E5%9B%9E 第四十三回　閒取樂偶攢金慶壽　不了情暫撮\n",
      "44 https://zh.wikisource.org/wiki/%E7%B4%85%E6%A8%93%E5%A4%A2/%E7%AC%AC044%E5%9B%9E 第四十四回　變生不測鳳姐潑醋　喜出望外平\n",
      "45 https://zh.wikisource.org/wiki/%E7%B4%85%E6%A8%93%E5%A4%A2/%E7%AC%AC045%E5%9B%9E 第四十五回　金蘭契互剖金蘭語　風雨夕悶制\n",
      "46 https://zh.wikisource.org/wiki/%E7%B4%85%E6%A8%93%E5%A4%A2/%E7%AC%AC046%E5%9B%9E 第四十六回　尷尬人難免尷尬事　鴛鴦女誓絕\n",
      "47 https://zh.wikisource.org/wiki/%E7%B4%85%E6%A8%93%E5%A4%A2/%E7%AC%AC047%E5%9B%9E 第四十七回　呆霸王調情遭苦打　冷郎君懼禍\n",
      "48 https://zh.wikisource.org/wiki/%E7%B4%85%E6%A8%93%E5%A4%A2/%E7%AC%AC048%E5%9B%9E 第四十八回　濫情人情誤思游藝　慕雅女雅集\n",
      "49 https://zh.wikisource.org/wiki/%E7%B4%85%E6%A8%93%E5%A4%A2/%E7%AC%AC049%E5%9B%9E 第四十九回　琉璃世界白雪紅梅　脂粉香娃割\n",
      "50 https://zh.wikisource.org/wiki/%E7%B4%85%E6%A8%93%E5%A4%A2/%E7%AC%AC050%E5%9B%9E 第五十回　蘆雪广爭聯即景詩　暖香塢創制春\n",
      "51 https://zh.wikisource.org/wiki/%E7%B4%85%E6%A8%93%E5%A4%A2/%E7%AC%AC051%E5%9B%9E 第五十一回　薛小妹新編怀古詩　胡庸醫亂用\n",
      "52 https://zh.wikisource.org/wiki/%E7%B4%85%E6%A8%93%E5%A4%A2/%E7%AC%AC052%E5%9B%9E 第五十二回　俏平兒情掩蝦須鐲　勇晴雯病補\n",
      "53 https://zh.wikisource.org/wiki/%E7%B4%85%E6%A8%93%E5%A4%A2/%E7%AC%AC053%E5%9B%9E 第五十三回　宁國府除夕祭宗祠　榮國府元宵\n",
      "54 https://zh.wikisource.org/wiki/%E7%B4%85%E6%A8%93%E5%A4%A2/%E7%AC%AC054%E5%9B%9E 第五十四回　史太君破陳腐舊套　王熙鳳效戲\n",
      "55 https://zh.wikisource.org/wiki/%E7%B4%85%E6%A8%93%E5%A4%A2/%E7%AC%AC055%E5%9B%9E 第五十五回　辱親女愚妾爭閒氣　欺幼主刁奴\n",
      "56 https://zh.wikisource.org/wiki/%E7%B4%85%E6%A8%93%E5%A4%A2/%E7%AC%AC056%E5%9B%9E 第五十六回　敏探春興利除宿弊　識寶釵小惠\n",
      "57 https://zh.wikisource.org/wiki/%E7%B4%85%E6%A8%93%E5%A4%A2/%E7%AC%AC057%E5%9B%9E 第五十七回　慧紫鵑情辭試忙玉　慈姨媽愛語\n",
      "58 https://zh.wikisource.org/wiki/%E7%B4%85%E6%A8%93%E5%A4%A2/%E7%AC%AC058%E5%9B%9E 第五十八回　杏子陰假鳳泣虛凰　茜紗窗真情\n",
      "59 https://zh.wikisource.org/wiki/%E7%B4%85%E6%A8%93%E5%A4%A2/%E7%AC%AC059%E5%9B%9E 第五十九回　柳葉渚邊嗔鶯吒燕　絳芸軒里召\n",
      "60 https://zh.wikisource.org/wiki/%E7%B4%85%E6%A8%93%E5%A4%A2/%E7%AC%AC060%E5%9B%9E 第六十回　茉莉粉替去薔薇硝　玫瑰露引來茯\n",
      "61 https://zh.wikisource.org/wiki/%E7%B4%85%E6%A8%93%E5%A4%A2/%E7%AC%AC061%E5%9B%9E 第六十一回　投鼠忌器寶玉瞞贓　判冤決獄平\n",
      "62 https://zh.wikisource.org/wiki/%E7%B4%85%E6%A8%93%E5%A4%A2/%E7%AC%AC062%E5%9B%9E 第六十二回　憨湘云醉眠芍藥裀　呆香菱情解\n",
      "63 https://zh.wikisource.org/wiki/%E7%B4%85%E6%A8%93%E5%A4%A2/%E7%AC%AC063%E5%9B%9E 第六十三回　壽怡紅群芳開夜宴　死金丹獨艷\n",
      "64 https://zh.wikisource.org/wiki/%E7%B4%85%E6%A8%93%E5%A4%A2/%E7%AC%AC064%E5%9B%9E 第六十四回　幽淑女悲題五美吟　浪蕩子情遺\n",
      "65 https://zh.wikisource.org/wiki/%E7%B4%85%E6%A8%93%E5%A4%A2/%E7%AC%AC065%E5%9B%9E 第六十五回　賈二舍偷娶尤二姨　尤三姐思嫁\n",
      "66 https://zh.wikisource.org/wiki/%E7%B4%85%E6%A8%93%E5%A4%A2/%E7%AC%AC066%E5%9B%9E 第六十六回　情小妹恥情歸地府　冷二郎一冷\n",
      "67 https://zh.wikisource.org/wiki/%E7%B4%85%E6%A8%93%E5%A4%A2/%E7%AC%AC067%E5%9B%9E 第六十七回　見土儀顰卿思故里　聞秘事鳳姐\n",
      "68 https://zh.wikisource.org/wiki/%E7%B4%85%E6%A8%93%E5%A4%A2/%E7%AC%AC068%E5%9B%9E 第六十八回　苦尤娘賺入大觀園　酸鳳姐大鬧\n",
      "69 https://zh.wikisource.org/wiki/%E7%B4%85%E6%A8%93%E5%A4%A2/%E7%AC%AC069%E5%9B%9E 第六十九回　弄小巧用借劍殺人　覺大限吞生\n",
      "70 https://zh.wikisource.org/wiki/%E7%B4%85%E6%A8%93%E5%A4%A2/%E7%AC%AC070%E5%9B%9E 第七十回　林黛玉重建桃花社　史湘云偶填柳\n",
      "71 https://zh.wikisource.org/wiki/%E7%B4%85%E6%A8%93%E5%A4%A2/%E7%AC%AC071%E5%9B%9E 第七十一回　嫌隙人有心生嫌隙　鴛鴦女無意\n",
      "72 https://zh.wikisource.org/wiki/%E7%B4%85%E6%A8%93%E5%A4%A2/%E7%AC%AC072%E5%9B%9E 第七十二回　王熙鳳恃強羞說病　來旺婦倚勢\n",
      "73 https://zh.wikisource.org/wiki/%E7%B4%85%E6%A8%93%E5%A4%A2/%E7%AC%AC073%E5%9B%9E 第七十三回　痴丫頭誤拾繡春囊　懦小姐不問\n",
      "74 https://zh.wikisource.org/wiki/%E7%B4%85%E6%A8%93%E5%A4%A2/%E7%AC%AC074%E5%9B%9E 第七十四回　惑奸讒抄揀大觀園　矢孤介杜絕\n",
      "75 https://zh.wikisource.org/wiki/%E7%B4%85%E6%A8%93%E5%A4%A2/%E7%AC%AC075%E5%9B%9E 第七十五回　開夜宴异兆發悲音　賞中秋新詞\n",
      "76 https://zh.wikisource.org/wiki/%E7%B4%85%E6%A8%93%E5%A4%A2/%E7%AC%AC076%E5%9B%9E 第七十六回　凸碧堂品笛感凄清　凹晶館聯詩\n",
      "77 https://zh.wikisource.org/wiki/%E7%B4%85%E6%A8%93%E5%A4%A2/%E7%AC%AC077%E5%9B%9E 第七十七回　俏丫鬟抱屈夭風流　美优伶斬情\n",
      "78 https://zh.wikisource.org/wiki/%E7%B4%85%E6%A8%93%E5%A4%A2/%E7%AC%AC078%E5%9B%9E 第七十八回　老學士閒征姽嫿詞　痴公子杜撰\n",
      "79 https://zh.wikisource.org/wiki/%E7%B4%85%E6%A8%93%E5%A4%A2/%E7%AC%AC079%E5%9B%9E 第七十九回　薛文龍悔娶河東獅　賈迎春誤嫁\n",
      "80 https://zh.wikisource.org/wiki/%E7%B4%85%E6%A8%93%E5%A4%A2/%E7%AC%AC080%E5%9B%9E 第八十回　懦弱迎春腸回九曲　姣怯香菱病入\n",
      "81 https://zh.wikisource.org/wiki/%E7%B4%85%E6%A8%93%E5%A4%A2/%E7%AC%AC081%E5%9B%9E 第八十一回　占旺相四美釣游魚　奉嚴詞兩番\n",
      "82 https://zh.wikisource.org/wiki/%E7%B4%85%E6%A8%93%E5%A4%A2/%E7%AC%AC082%E5%9B%9E 第八十二回　老學究講義警頑心　病瀟湘痴魂\n",
      "83 https://zh.wikisource.org/wiki/%E7%B4%85%E6%A8%93%E5%A4%A2/%E7%AC%AC083%E5%9B%9E 第八十三回　省宮闈賈元妃染恙　鬧閨閫薛寶\n",
      "84 https://zh.wikisource.org/wiki/%E7%B4%85%E6%A8%93%E5%A4%A2/%E7%AC%AC084%E5%9B%9E 第八十四回　試文字寶玉始提親　探驚風賈環\n",
      "85 https://zh.wikisource.org/wiki/%E7%B4%85%E6%A8%93%E5%A4%A2/%E7%AC%AC085%E5%9B%9E 第八十五回　賈存周報升郎中任　薛文起复惹\n",
      "86 https://zh.wikisource.org/wiki/%E7%B4%85%E6%A8%93%E5%A4%A2/%E7%AC%AC086%E5%9B%9E 第八十六回　受私賄老官翻案牘　寄閒情淑女\n",
      "87 https://zh.wikisource.org/wiki/%E7%B4%85%E6%A8%93%E5%A4%A2/%E7%AC%AC087%E5%9B%9E 第八十七回　感深秋撫琴悲往事　坐禪寂走火\n",
      "88 https://zh.wikisource.org/wiki/%E7%B4%85%E6%A8%93%E5%A4%A2/%E7%AC%AC088%E5%9B%9E 第八十八回　博庭歡寶玉贊孤兒　正家法賈珍\n",
      "89 https://zh.wikisource.org/wiki/%E7%B4%85%E6%A8%93%E5%A4%A2/%E7%AC%AC089%E5%9B%9E 第八十九回　人亡物在公子填詞　蛇影杯弓顰\n",
      "90 https://zh.wikisource.org/wiki/%E7%B4%85%E6%A8%93%E5%A4%A2/%E7%AC%AC090%E5%9B%9E 第九十回　失綿衣貧女耐嗷嘈　送果品小郎驚\n",
      "91 https://zh.wikisource.org/wiki/%E7%B4%85%E6%A8%93%E5%A4%A2/%E7%AC%AC091%E5%9B%9E 第九十一回　縱淫心寶蟾工設計　布疑陣寶玉\n",
      "92 https://zh.wikisource.org/wiki/%E7%B4%85%E6%A8%93%E5%A4%A2/%E7%AC%AC092%E5%9B%9E 第九十二回　評女傳巧姐慕賢良　玩母珠賈政\n",
      "93 https://zh.wikisource.org/wiki/%E7%B4%85%E6%A8%93%E5%A4%A2/%E7%AC%AC093%E5%9B%9E 第九十三回　甄家僕投靠賈家門　水月庵掀翻\n",
      "94 https://zh.wikisource.org/wiki/%E7%B4%85%E6%A8%93%E5%A4%A2/%E7%AC%AC094%E5%9B%9E 第九十四回　宴海棠賈母賞花妖　失寶玉通靈\n",
      "95 https://zh.wikisource.org/wiki/%E7%B4%85%E6%A8%93%E5%A4%A2/%E7%AC%AC095%E5%9B%9E 第九十五回　因訛成實元妃薨逝　以假混真寶\n",
      "96 https://zh.wikisource.org/wiki/%E7%B4%85%E6%A8%93%E5%A4%A2/%E7%AC%AC096%E5%9B%9E 第九十六回　瞞消息鳳姐設奇謀　泄机關顰兒\n",
      "97 https://zh.wikisource.org/wiki/%E7%B4%85%E6%A8%93%E5%A4%A2/%E7%AC%AC097%E5%9B%9E 第九十七回　林黛玉焚稿斷痴情　薛寶釵出閨\n",
      "98 https://zh.wikisource.org/wiki/%E7%B4%85%E6%A8%93%E5%A4%A2/%E7%AC%AC098%E5%9B%9E 第九十八回　苦絳珠魂歸離恨天　病神瑛淚灑\n",
      "99 https://zh.wikisource.org/wiki/%E7%B4%85%E6%A8%93%E5%A4%A2/%E7%AC%AC099%E5%9B%9E 第九十九回　守官箴惡奴同破例　閱邸報老舅\n",
      "100 https://zh.wikisource.org/wiki/%E7%B4%85%E6%A8%93%E5%A4%A2/%E7%AC%AC100%E5%9B%9E 第一零零回　破好事香菱結深恨　悲遠嫁寶玉\n",
      "101 https://zh.wikisource.org/wiki/%E7%B4%85%E6%A8%93%E5%A4%A2/%E7%AC%AC101%E5%9B%9E 第一零一回　大觀園月夜感幽魂　散花寺神簽\n",
      "102 https://zh.wikisource.org/wiki/%E7%B4%85%E6%A8%93%E5%A4%A2/%E7%AC%AC102%E5%9B%9E 第一零二回　宁國府骨肉病災襟　大觀園符水\n",
      "103 https://zh.wikisource.org/wiki/%E7%B4%85%E6%A8%93%E5%A4%A2/%E7%AC%AC103%E5%9B%9E 第一零三回　施毒計金桂自焚身　昧真禪雨村\n",
      "104 https://zh.wikisource.org/wiki/%E7%B4%85%E6%A8%93%E5%A4%A2/%E7%AC%AC104%E5%9B%9E 第一零四回　醉金剛小鰍生大浪　痴公子余痛\n",
      "105 https://zh.wikisource.org/wiki/%E7%B4%85%E6%A8%93%E5%A4%A2/%E7%AC%AC105%E5%9B%9E 第一零五回　錦衣軍查抄宁國府　驄馬使彈劾\n",
      "106 https://zh.wikisource.org/wiki/%E7%B4%85%E6%A8%93%E5%A4%A2/%E7%AC%AC106%E5%9B%9E 第一零六回　王熙鳳致禍抱羞慚　賈太君禱天\n",
      "107 https://zh.wikisource.org/wiki/%E7%B4%85%E6%A8%93%E5%A4%A2/%E7%AC%AC107%E5%9B%9E 第一零七回　散余資賈母明大義　复世職政老\n",
      "108 https://zh.wikisource.org/wiki/%E7%B4%85%E6%A8%93%E5%A4%A2/%E7%AC%AC108%E5%9B%9E 第一零八回　強歡笑蘅蕪慶生辰　死纏綿瀟湘\n",
      "109 https://zh.wikisource.org/wiki/%E7%B4%85%E6%A8%93%E5%A4%A2/%E7%AC%AC109%E5%9B%9E 第一零九回　候芳魂五兒承錯愛　還孽債迎女\n",
      "110 https://zh.wikisource.org/wiki/%E7%B4%85%E6%A8%93%E5%A4%A2/%E7%AC%AC110%E5%9B%9E 第一一零回　史太君壽終歸地府　王鳳姐力詘\n",
      "111 https://zh.wikisource.org/wiki/%E7%B4%85%E6%A8%93%E5%A4%A2/%E7%AC%AC111%E5%9B%9E 第一一一回　鴛鴦女殉主登太虛　狗彘奴欺天\n",
      "112 https://zh.wikisource.org/wiki/%E7%B4%85%E6%A8%93%E5%A4%A2/%E7%AC%AC112%E5%9B%9E 第一一二回　活冤孽妙尼遭大劫　死讎仇趙妾\n",
      "113 https://zh.wikisource.org/wiki/%E7%B4%85%E6%A8%93%E5%A4%A2/%E7%AC%AC113%E5%9B%9E 第一一三回　忏宿冤鳳姐托村嫗　釋舊憾情婢\n",
      "114 https://zh.wikisource.org/wiki/%E7%B4%85%E6%A8%93%E5%A4%A2/%E7%AC%AC114%E5%9B%9E 第一一四回　王熙鳳歷幻返金陵　甄應嘉蒙恩\n",
      "115 https://zh.wikisource.org/wiki/%E7%B4%85%E6%A8%93%E5%A4%A2/%E7%AC%AC115%E5%9B%9E 第一一五回　惑偏私惜春矢素志　證同類寶玉\n",
      "116 https://zh.wikisource.org/wiki/%E7%B4%85%E6%A8%93%E5%A4%A2/%E7%AC%AC116%E5%9B%9E 第一一六回　得通靈幻境悟仙緣　送慈柩故鄉\n",
      "117 https://zh.wikisource.org/wiki/%E7%B4%85%E6%A8%93%E5%A4%A2/%E7%AC%AC117%E5%9B%9E 第一一七回　阻超凡佳人雙護玉　欣聚党惡子\n",
      "118 https://zh.wikisource.org/wiki/%E7%B4%85%E6%A8%93%E5%A4%A2/%E7%AC%AC118%E5%9B%9E 第一一八回　記微嫌舅兄欺弱女　驚謎語妻妾\n",
      "119 https://zh.wikisource.org/wiki/%E7%B4%85%E6%A8%93%E5%A4%A2/%E7%AC%AC119%E5%9B%9E 第一一九回　中鄉魁寶玉卻塵緣　沐皇恩賈家\n",
      "120 https://zh.wikisource.org/wiki/%E7%B4%85%E6%A8%93%E5%A4%A2/%E7%AC%AC120%E5%9B%9E 第一二零回　甄士隱詳說太虛情　賈雨村歸結\n"
     ]
    }
   ],
   "source": [
    "for index, a_tag in enumerate(url_list):\n",
    "    url = urljoin(ROOT_URL, a_tag.attrs[\"href\"])\n",
    "    text = extract_chapter(url)\n",
    "    with open(\"data/chapter_%s.txt\" % (index+1), \"wb\") as f:\n",
    "        f.write(text.encode(\"utf8\"))\n",
    "    print index +1 , url, text.strip()[:20]"
   ]
  },
  {
   "cell_type": "code",
   "execution_count": null,
   "metadata": {
    "collapsed": true
   },
   "outputs": [],
   "source": []
  }
 ],
 "metadata": {
  "kernelspec": {
   "display_name": "Python 2",
   "language": "python",
   "name": "python2"
  },
  "language_info": {
   "codemirror_mode": {
    "name": "ipython",
    "version": 2
   },
   "file_extension": ".py",
   "mimetype": "text/x-python",
   "name": "python",
   "nbconvert_exporter": "python",
   "pygments_lexer": "ipython2",
   "version": "2.7.6"
  }
 },
 "nbformat": 4,
 "nbformat_minor": 0
}
