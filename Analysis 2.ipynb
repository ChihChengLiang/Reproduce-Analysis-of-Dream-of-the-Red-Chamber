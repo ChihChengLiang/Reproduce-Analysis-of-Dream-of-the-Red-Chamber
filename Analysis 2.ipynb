{
 "cells": [
  {
   "cell_type": "markdown",
   "metadata": {},
   "source": [
    "# 重製：用机器学习判定红楼梦后40回是否曹雪芹所写\n",
    "\n",
    "最近有篇 [文章](https://zhuanlan.zhihu.com/p/21421723) 在知乎上十分受歡迎\n",
    "\n"
   ]
  },
  {
   "cell_type": "code",
   "execution_count": 73,
   "metadata": {
    "collapsed": true
   },
   "outputs": [],
   "source": [
    "import jieba\n",
    "import pandas as pd\n",
    "import numpy as np"
   ]
  },
  {
   "cell_type": "markdown",
   "metadata": {},
   "source": [
    "讀取從維基文庫爬蟲下來的紅樓夢，並做分詞處理"
   ]
  },
  {
   "cell_type": "code",
   "execution_count": 3,
   "metadata": {
    "collapsed": false
   },
   "outputs": [
    {
     "name": "stderr",
     "output_type": "stream",
     "text": [
      "Building prefix dict from the default dictionary ...\n",
      "DEBUG:jieba:Building prefix dict from the default dictionary ...\n",
      "Loading model from cache /tmp/jieba.cache\n",
      "DEBUG:jieba:Loading model from cache /tmp/jieba.cache\n",
      "Loading model cost 0.423 seconds.\n",
      "DEBUG:jieba:Loading model cost 0.423 seconds.\n",
      "Prefix dict has been built succesfully.\n",
      "DEBUG:jieba:Prefix dict has been built succesfully.\n"
     ]
    }
   ],
   "source": [
    "corpus = []\n",
    "for i in range(120):\n",
    "    with open(\"data/chapter_%s.txt\" % (i+1), \"r\") as f:\n",
    "        text = f.read().decode(\"utf8\").replace(\"\\n\", \"\")\n",
    "    l = jieba.lcut(text)\n",
    "    cutted_text = \" \".join(l)\n",
    "    corpus.append(cutted_text)"
   ]
  },
  {
   "cell_type": "code",
   "execution_count": 68,
   "metadata": {
    "collapsed": false
   },
   "outputs": [
    {
     "name": "stdout",
     "output_type": "stream",
     "text": [
      "　 　 第六回 　 賈寶玉 初試 雲 雨情 　 劉 姥姥 一進 榮國府 　 　 題 曰 ：   　 　 　 　 朝 叩富 兒門 ， 富兒 猶未足 。 　 　 雖 無 千金 酬 ， 嗟彼勝 骨肉 。 　 　 卻 說 秦氏 因 聽 見 寶玉 從 夢 中喚 他 的 乳名 ， 心中 自是 納悶 ， 又 不好 細問 。 彼時 寶玉迷 迷惑 惑 ， 若有所失 。 眾人忙 端 上桂圓 湯來 ， 呷 了 兩口 ， 遂 起身 整衣 。 襲人 伸手 與 他 系褲 帶時 ， 不覺 伸手 至 大腿 處 ， 只覺 冰涼 一片 沾濕 ， 唬 的 忙 退出 手來 ， 問是 怎麼 了 。 寶玉紅漲 了 臉 ， 把 他 的 手 一 捻 。 襲人本 是 個 聰明 女子 ， 年紀本 又 比寶玉大 兩歲 ， 近來 也 漸通 人事 ， 今見 寶玉 如此 光景 ， 心中 便 覺察 一半 了 ， 不覺 也 羞 的 紅漲 了 臉面 ， 不敢 再問 。 仍 舊理 好 衣裳 ， 遂 至 賈母 處來 ， 胡亂 吃 畢 了 晚飯 ， 過這邊 來 。 　 　 襲人忙 趁眾 奶娘 丫鬟 不 在 旁時 ， 另 取出 一件 中衣來 與 寶玉換 上 。 寶玉 含羞 央告 道 ： “ 好 姐姐 ， 千萬別 告訴 人 。 ” 襲人 亦 含羞 笑 問道 ： “ 你夢見 什麼 故事 了 ？ 是 那里 流出 來 的 那些 髒 東 西 ？ ” 寶玉道 ： “ 一言難 盡 。 ” 說 著 便 把 夢 中 之事細 說 與 襲人 聽 了 。 然后 說 至 警幻 所 授雲雨 之情 ， 羞 的 襲人 掩面 伏身 而 笑 。 寶玉亦素 喜襲 人 柔媚 嬌俏 ， 遂 強襲 人同 領警 幻所 訓雲雨 之事 。 襲人素 知 賈母 已將 自己 與 了 寶玉 的 ， 今便 如此 ， 亦 不 為 越禮 ， 遂 和 寶玉 偷試 一番 ， 幸得 無人 撞 見 。 自此 寶玉視 襲人 更 比別 個 不同 ， 襲人待 寶玉 更 為 盡心 。 暫且 別無話 說 。 　 　 按榮府 中 一宅 人 合算 起來 ， 人口 雖不多 ， 從 上 至 下 也 有 三四百 丁 ， 雖事 不 多 ， 一天 也 有 一二十件 ， 竟如亂 麻 一般 ， 并 無個 頭緒 可作 綱領 。 正尋思 從 那 一件 事自 那 一個 人 寫 起 方妙 ， 恰好 忽 從 千里 之外 ， 芥 荳 之 微 ， 小小 一個 人家 ， 因 與 榮府 略 有些 瓜葛 ， 這日 正往 榮府 中來 ， 因此 便 就此 一家 說來 ， 倒 還是 頭緒 。 你 道 這 一家 姓 甚名 誰 ， 又 與 榮府 有 甚 瓜葛 ？ 諸公若 嫌 瑣碎 粗鄙 呢 ， 則快 擲 下 此書 ， 另 覓 好 書 去 醒目 ； 若謂 聊 可破悶 時 ， 待 蠢物 逐細言來 。 方才 所 說 的 這 小小 之 家 ， 乃 本地 人氏 ， 姓王 ， 祖上 曾作過 小小的 一個 京官 ， 昔年 與 鳳姐 之祖 王夫人 之父 認識 。 因 貪 王家 的 勢利 ， 便連 了 宗 認作 侄兒 。 那時 只有 王夫人 之大兄 鳳姐 之父 與 王夫人 隨在京 中 的 ， 知有 此 一門 連宗之族 ， 余者 皆 不 認識 。 目今 其祖 已故 ， 只有 一個 兒子 ， 名喚 王成 ， 因家業 蕭條 ， 仍 搬出 城外 原鄉 中住 去 了 。 王成 新近 亦 因 病故 ， 只有 其子 ， 小名 狗兒 。 狗兒 亦 生一子 ， 小名 板兒 ， 嫡妻 劉氏 ， 又 生一女 ， 名喚 青兒 。 一家 四口 ， 仍 以務 農為業 。 因狗兒 白日 間 又 作些 生計 ， 劉氏 又 操 井臼 等 事 ， 青板 姊妹 兩個 無人 看管 ， 狗兒 遂將 岳母 劉 姥姥 接來 一處 過活 。 這劉 姥姥 乃是 個積 年 的 老 寡婦 ， 膝下 又 無兒 女 ， 只靠 兩畝 薄田 度日 。 今者 女婿 接來 養活 ， 豈 不願意 ， 遂 一心 一計 ， 幫 趁 著 女兒 女婿 過活 起來 。 因 這年 秋 盡冬初 ， 天氣 冷將 上 來 ， 家中 冬事 未辦 ， 狗兒 未免 心中 煩慮 ， 吃 了 幾杯 悶酒 ， 在家 閒尋氣惱 ， 劉氏 也 不敢 頂 撞 。 因此 劉 姥姥 看不過 ， 乃 勸 道 ： “ 姑爺 ， 你別 嗔 著 我 多嘴 。 咱們 村庄 人 ， 那一個 不是 老老 誠 誠 的 ， 守多 大碗 兒 吃 多 大 的 飯 。 你 皆 因年 小 的 時候 ， 托著 你 那 老家 之福 ， 吃喝 慣 了 ， 如今 所以 把持 不住 。 有 了 錢 就 顧頭 不 顧尾 ， 沒 了 錢 就 瞎 生氣 ， 成個 什麼 男子 漢 大丈夫 呢 ！ 如今 咱們 雖離 城住 著 ， 終是 天子 腳下 。 這長 安 城中 ， 遍地 都 是 錢 ， 只 可惜 沒人會 去 拿 去 罷了 。 在家 跳蹋 會子 也 不中用 。 ” 狗兒 聽 說 ， 便 急 道 ： “ 你老 只會 炕 頭兒 上 混 說 ， 難道 叫 我 打劫 偷 去不成 ？ ” 劉 姥姥 道 ： “ 誰 叫 你 偷 去 呢 。 也 到底 想法 兒 大家 裁度 ， 不然 那銀子 錢 自己 跑 到 咱家 來 不成 ？ ” 狗兒 冷笑 道 ： “ 有法 兒還 等到 這會子 呢 。 我 又 沒 有 收稅 的 親戚 ， 作官 的 朋友 ， 有什麼 法子 可想 的 ？ 便 有 ， 也 只怕 他們 未必 來理 我們 呢 ！ ” 　 　 劉 姥姥 道 ： “ 這倒 不然 。 謀事 在 人 ， 成事在天 。 咱們 謀到 了 ， 看 菩薩 的 保佑 ， 有些 机會 ， 也 未可知 。 我 倒替 你們 想 出 一個 机會來 。 當日 你 們 原 是 和 金陵 王家 連過 宗 的 ， 二十年 前 ， 他們 看 承 你 們 還好 ， 如今 自然 是 你 們 拉 硬 屎 ， 不肯 去 親近 他 ， 故疏 遠 起來 。 想 當初 我 和 女兒 還去過 一遭 。 他們 家 的 二 小姐 著實響 快 ， 會 待人 ， 倒 不 拿 大 。 如今 現是 榮國府 賈 二老 爺的 夫人 。 聽得 說 ， 如今 上 了 年紀 ， 越 發怜 貧恤 老 ， 最愛齋 僧敬道 ， 舍米舍 錢 的 。 如今 王府 雖升 了 邊任 ， 只怕 這 二姑 太太 還認 得 咱們 。 你 何不 去 走動 走動 ， 或者 他念舊 ， 有些 好處 ， 也 未可知 。 要是 他 發一點 好心 ， 拔 一根 寒毛 比 咱們 的 腰 還粗 呢 。 ” 劉氏 一旁 接口 道 ： “ 你老 雖說 的 是 ， 但 只 你 我 這樣 個 嘴 臉 ， 怎樣 好 到 他門 上去 的 。 先不先 ， 他們 那些 門上 的 人 也 未必 肯 去 通信 。 沒 的 去 打 嘴 現世 。 ” 　 　 誰 知狗兒 利名心 最重 ， 聽 如此 一說 ， 心下 便 有些 活動 起來 。 又 聽 他 妻子 這話 ， 便 笑 接道 ： “ 姥姥 既 如此 說 ， 況且 當年 你 又 見過 這姑 太太 一次 ， 何不 你 老人家 明日 就 走 一趟 ， 先試 試風頭 再 說 。 ” 劉 姥姥 道 ： “ 噯 喲 喲 ！ 可是 說 的 ， ‘ 侯門 深 似海 ’ ， 我 是 個 什麼 東西 ， 他 家人 又 不 認得 我 ， 我 去 了 也 是 白去 的 。 ” 狗兒 笑 道 ： “ 不妨 ， 我教 你 老人家 一個 法子 ： 你 竟 帶 了 外孫 子板 兒 ， 先去 找 陪房 周瑞 ， 若見 了 他 ， 就 有些 意思 了 。 這周瑞 先時 曾 和 我 父親 交過 一件 事 ， 我們 极好 的 。 ” 劉 姥姥 道 ： “ 我 也 知道 他 的 。 只是 許多時 不 走動 ， 知道 他 如今 是 怎樣 。 這也 說 不得了 ， 你 又 是 個 男人 ， 又 這樣 個 嘴 臉 ， 自然 去 不得 ， 我們 姑娘 年 輕媳 婦子 ， 也 難 賣頭 賣 腳 的 ， 倒 還是 舍著 我 這付 老臉 去 碰 一 碰 。 果然 有些 好處 ， 大家 都 有益 ， 便是 沒銀子 來 ， 我 也 到 那 公府 侯門見 一見 世面 ， 也 不 枉 我 一生 。 ” 說 畢 ， 大家 笑 了 一回 。 當晚 計議 已定 。 　 　 次日 天未明 ， 劉 姥姥 便 起來 梳洗 了 ， 又 將板兒 教訓 了 几句 。 那板兒 才 五六 歲 的 孩子 ， 一無 所知 ， 聽見劉 姥姥 帶 他 進城 逛去 ， 便 喜 的 無不應 承 。 于是 劉 姥姥 帶 他 進城 ， 找 至宁榮 街 。 來 至 榮府 大門 石獅子 前 ， 只見 簇簇 轎馬 ， 劉 姥姥 便 不敢 過去 ， 且 撣 了 撣 衣服 ， 又 教 了 板兒 几句 話 ， 然后 蹭 到 角門前 。 只見 几個 挺胸 疊肚 指手 畫腳 的 人 ， 坐在 大 板凳 上 ， 說 東談西 呢 。 劉 姥姥 只得 蹭 上 來問 ： “ 太爺們 納福 。 ” 眾人 打量 了 他 一會 ， 便問 ” 那里 來 的 ？ ” 劉 姥姥 陪笑 道 ： “ 我 找 太太 的 陪房 周大爺 的 ， 煩 那位 太爺 替 我 請 他 老出 來 。 ” 那些 人 聽 了 ， 都 不 瞅 睬 ， 半日方 說道 ： “ 你 遠遠 的 在 那牆 角下 等 著 ， 一會子 他們 家 有人 就 出來 的 。 ” 內中 有 一 老年人 說道 ： “ 不要 誤他 的 事 ， 何苦 耍 他 。 ” 因向劉 姥姥 道 ： “ 那 周大爺 已往 南邊 去 了 。 他 在 后 一帶 住 著 ， 他 娘子 卻 在家 。 你 要 找 時 ， 從 這邊 繞 到 后 街上 後門 上去 問 就是 了 。 ” 　 　 劉 姥姥 聽 了 謝過 ， 遂 攜 了 板兒 ， 繞 到後門 上 。 只見 門前 歇 著些 生意 擔子 ， 也 有 賣 吃 的 ， 也 有 賣 頑耍 物件 的 ， 鬧 吵吵 三二十 個 小孩子 在 那里 廝鬧 。 劉 姥姥 便拉住 一個 道 ： “ 我 問哥兒 一聲 ， 有個 周大娘 可 在家 么 ？ ” 孩子 們 道 ： “ 那個 周大娘 ？ 我們 這里 周大娘 有三個 呢 ， 還有 兩個 周 奶奶 ， 不知 是 那 一行 當的 ？ ” 劉 姥姥 道 ： “ 是 太太 的 陪房 周瑞 。 ” 孩子 道 ： “ 這個 容易 ， 你 跟 我 來 。 ” 說 著 ， 跳 躥 躥 的 引著劉 姥姥 進了後門 ， 至 一院 牆邊 ， 指與劉 姥姥 道 ： “ 這 就是 他家 。 ” 又 叫 道 ： “ 周大娘 ， 有個 老奶奶 來 找 你 呢 ， 我 帶 了 來 了 。 ” 　 　 周瑞家 的 在 內 聽 說 ， 忙 迎 了 出來 ， 問 ： “ 是 那位 ？ ” 劉 姥姥 忙 迎 上 來 問道 ： “ 好 呀 ， 周嫂子 ！ ” 周瑞家 的 認 了 半日 ， 方笑 道 ： “ 劉 姥姥 ， 你好 呀 ！ 你 說 說 ， 能 几年 ， 我 就 忘 了 。 請 家里 來 坐罷 。 ” 劉 姥姥 一壁 里 走 著 ， 一壁 笑 說 道 ： “ 你老 是 貴人 多 忘事 ， 那里 還記 得 我們 呢 。 ” 說 著 ， 來 至 房中 。 周瑞家 的 命 雇 的 小丫頭 倒 上 茶 來 吃 著 。 周瑞家 的 又 問板 兒道 ： “ 你 都 長 這們 大 了 ！ ” 又 問些 別后 閒話 。 又 問劉 姥姥 ： “ 今日 還是 路過 ， 還是 特來 的 ？ ” 劉 姥姥 便 說 ： “ 原是 特來 瞧瞧 嫂子 你 ， 二則 也 請 請 姑 太太 的 安 。 若 可以 領我見 一見 更好 ， 若 不能 ， 便 借重 嫂子 轉 致意 罷了 。 ” 　 　 周瑞家 的 聽 了 ， 便 已 猜 著 几分 來意 。 只 因 昔年 他 丈夫 周瑞爭 買 田地 一事 ， 其中 多得 狗兒 之力 ， 今見劉 姥姥 如此 而來 ， 心中 難 卻 其意 ， 二則 也 要 顯弄 自己 的 体面 。 聽 如此 說 ， 便 笑 說 道 ： “ 姥姥 你 放心 。 大遠 的 誠心 誠意 來 了 ， 豈 有 個 不教 你 見 個 真佛 去 的 呢 。 論理 ， 人來 客至 回話 ， 卻 不 與 我 相干 。 我們 這里 都 是 各 占 一樣 兒 ： 我們 男 的 只管 春秋 兩季 地租 子 ， 閒時 只 帶 著小爺 們 出門子 就 完 了 ， 我 只管 跟 太太 奶奶 們 出門 的 事 。 皆 因 你 原是 太太 的 親戚 ， 又 拿 我 當個 人 ， 投奔 了 我 來 ， 我 就 破個 例 ， 給你通個 信去 。 但 只 一件 ， 姥姥 有所不知 ， 我們 這里 又 不 比 五年 前 了 。 如今 太太 竟不大 管事 * ， 都 是璉 二 奶奶 管家 了 。 你 道 這璉 二 奶奶 是 誰 ？ 就是 太太 的 內 侄女 ， 當日 大舅 老爺 的 女兒 ， 小名 鳳哥 的 。 ” 劉 姥姥 聽 了 ， 罕問 道 ： “ 原來 是 他 ！ 怪道 呢 ， 我 當日 就 說 他 不錯 呢 。 這等 說 來 ， 我 今兒 還得 見 他 了 。 ” 周瑞家 的 道 ： “ 這 自然 的 。 如今 太太 事 多心 煩 ， 有 客來 了 ， 略 可 推得 去 的 就 推過 去 了 ， 都 是 鳳 姑娘 周旋 迎待 。 今兒 宁可 不會 太太 ， 倒 要 見 他 一面 ， 才 不枉 這里 來 一遭 。 ” 劉 姥姥 道 ： “ 阿彌陀佛 ！ 全仗 嫂子 方便 了 。 ” 周瑞家 的 道 ： “ 說 那里 話 。 俗語 說 的 ： ‘ 與 人 方便 ， 自己 方便 。 ’ 不過 用 我 說 一句 話罷 了 ， 害著 我 什麼 。 ” 說 著 ， 便 叫 小丫頭 到 倒 廳 上 悄悄的 打 聽 打 聽 ， 老太太 屋里 擺 了 飯 了 沒 有 。 小丫頭 去 了 。 這里 二人 又 說些 閒話 。 　 　 劉 姥姥 因說 ： “ 這鳳 姑娘 今年 大 還不過 二十 歲罷 了 ， 就 這等 有 本事 ， 當這樣 的 家 ， 可是 難得 的 。 ” 周瑞家 的 聽 了 道 ： “ 我 的 姥姥 ， 告訴 不得 你 呢 。 這位 鳳 姑娘 年紀 雖 小 ， 行事 卻 比 世人 都 大 呢 。 如今 出 挑 的 美人 一樣 的 模樣 兒 ， 少 說些 有 一萬個 心眼 子 。 再要 賭口齒 ， 十個 會 說 話 的 男人 也 說 他 不過 。 回头 你 見 了 就 信 了 。 就 只 一件 ， 待 下 人 未免太 嚴些 個 。 ” 說 著 ， 只見 小丫頭 回來 說 ： “ 老太太 屋里 已 擺 完 了 飯 了 ， 二 奶奶 在 太太 屋里 呢 。 ” 周瑞家 的 聽 了 ， 連忙 起身 ， 催著劉 姥姥 說 ： “ 快 走 ， 快 走 。 這 一下 來 他 吃 飯 是 個 空子 ， 咱們 先 赶著 去 。 若遲 一步 ， 回事 的 人 也 多 了 ， 難說 話 。 再 歇 了 中覺 ， 越發 沒 了 時候 了 。 ” 說 著 一齊 下 了 炕 ， 打掃 打 掃 衣服 ， 又 教 了 板兒 几句 話 ， 隨著 周瑞家 的 ， 逶迤 往 賈璉 的 住 處來 。 先到 了 倒 廳 ， 周瑞家 的 將劉 姥姥 安插在 那里 略 等一等 。 自己 先過 了 影壁 ， 進 了 院門 ， 知鳳姐 未 下來 ， 先找 著鳳姐 的 一個 心腹 通房 大丫頭 名喚 平兒 的 。 周瑞家 的 先 將劉 姥姥 起初 來歷 說明 ， 又 說 ： “ 今日 大遠 的 特來 請安 。 當日 太太 是 常會 的 ， 今日 不可不 見 ， 所以 我 帶 了 他 進來 了 。 等 奶奶 下來 ， 我細細 回明 ， 奶奶 想 也 不責備 我 莽撞 的 。 ” 平兒 聽 了 ， 便作 了 主意 ： “ 叫 他們 進來 ， 先 在 這里 坐 著 就是 了 。 ” 周瑞家 的 聽 了 ， 方 出去 引他 兩個 進 入院 來 。 上 了 正房 台磯 ， 小丫頭 打起 猩紅 氈 帘 ， 才 入 堂屋 ， 只聞 一陣 香 扑 了 臉來 ， 竟不辨 是 何氣味 ， 身子 如 在 云端 里 一般 。 滿屋 中之物 都 耀眼 爭光 的 ， 使人頭 懸 目眩 。 劉 姥姥 此時 惟點頭 咂嘴 念佛 而已 。 于是 來 至 東邊 這間 屋內 ， 乃是 賈璉 的 女兒 大姐 兒 睡覺 之 所 。 平兒 站 在 炕沿 邊 ， 打量 了劉 姥姥 兩眼 ， 只得 問個 好 讓 坐 。 劉 姥姥 見 平兒 遍身 綾羅 ， 插金帶 銀 ， 花容玉貌 的 ， 便 當是 鳳姐兒 了 。 才 要 稱 姑奶奶 ， 忽見 周瑞家 的 稱 他 是 平 姑娘 ， 又 見 平兒 赶著 周瑞家 的 稱 周大娘 ， 方知 不過 是 個 有些 体面 的 丫頭 了 。 于是 讓劉 姥姥 和 板兒 上 了 炕 ， 平兒 和 周瑞家 的 對面 坐在 炕沿 上 ， 小丫頭子 斟 了 茶 來 吃 茶 。 　 　 劉 姥姥 只 聽 見 咯 當咯當 的 響聲 ， 大有 似乎 打籮 柜 篩面 的 一般 ， 不免 東瞧 西望 的 。 忽見 堂屋 中 柱子 上 挂 著 一個 匣子 ， 底下 又 墜 著 一個 秤砣 般一物 ， 卻 不住 的 亂 幌 。 劉 姥姥 心中 想著 ： “ 這是 什麼 愛物兒 ？ 有 甚用 呢 ？ ” 正呆時 ， 只 聽 得當 的 一聲 ， 又 若 金鐘 銅磬 一般 ， 不防 倒 唬 的 一展 眼 。 接著 又 是 一連 八九 下 。 方欲 問時 ， 只見 小 丫頭子們 齊亂 跑 ， 說 ： “ 奶奶 下來 了 。 ” 周瑞家 的 與 平兒 忙 起身 ， 命劉 姥姥 ” 只管 等 著 ， 是 時候 我們 來 請 你 。 ” 說 著 ， 都 迎 出去 了 。 　 　 劉 姥姥 屏聲側 耳默候 。 只 聽 遠遠 有人 笑聲 ， 約 有 一二十 婦人 ， 衣裙 窸 窣 ， 漸入 堂屋 ， 往 那邊 屋內 去 了 。 又 見 兩三個 婦人 ， 都 捧 著 大漆 捧 盒 ， 進 這邊 來 等候 。 聽得 那邊 說 了 聲 ” 擺飯 ” ， 漸漸 的 人才 散 出 ， 只有 伺候 端菜 的 几個 人 。 半日 鴉雀 不聞 之后 ， 忽見 二人 抬 了 一張 炕桌 來 ， 放在 這邊 炕 上 ， 桌上 碗 盤森列 ， 仍 是 滿滿 的 魚肉 在 內 ， 不 過略動 了 几樣 。 板兒 一見 了 ， 便 吵 著要 肉 吃 ， 劉 姥姥 一巴掌 打 了 他 去 。 忽見 周瑞家 的 笑嘻嘻 走過 來 ， 招手 兒 叫 他 。 劉 姥姥 會意 ， 于是 帶 了 板兒 下炕 ， 至 堂屋 中 ， 周瑞家 的 又 和 他 唧咕 了 一會 ， 方過 這邊 屋里 來 。 　 　 只見 門外 鏨 銅鉤 上 懸著 大紅 撒花 軟帘 ， 南窗 下 是 炕 ， 炕 上 大紅 氈條 ， 靠 東邊 板壁 立著 一個 鎖子 錦 靠背 與 一個 引枕 ， 舖 著金心 綠閃緞 大 坐褥 ， 旁邊 有 雕漆 痰 盒 。 那鳳姐 兒 家常 帶 著秋板 貂鼠 昭君 套 ， 圍著 攢 珠勒子 ， 穿著 桃紅 撒花 襖 ， 石青 刻絲 灰鼠 披風 ， 大紅洋 縐 銀鼠 皮裙 ， 粉光 脂艷 ， 端端正正 坐在 那里 ， 手內 拿 著小銅火 箸 兒 撥 手爐 內 的 灰 。 平兒 站 在 炕沿 邊 ， 捧 著 小小的 一個 填漆 茶盤 ， 盤內 一個 小蓋鐘 。 鳳姐 也 不接 茶 ， 也 不 抬頭 ， 只管 撥手 爐 內 的 灰 ， 慢慢 的 問道 ： “ 怎麼 還不請 進來 ？ ” 一面 說 ， 一面 抬身 要 茶 時 ， 只見 周瑞家 的 已 帶 了 兩個 人 在 地下 站 著 呢 。 這才 忙 欲 起身 ， 猶未 起身 時 ， 滿面 春風 的 問好 ， 又 嗔 著 周瑞家 的 怎麼 不 早 說 。 劉 姥姥 在 地下 已 是 拜 了 數拜 ， 問 姑奶奶 安 。 鳳姐 忙 說 ： “ 周姐姐 ， 快 攙 起來 ， 別拜罷 ， 請 坐 。 我 年 輕 ， 不大 認得 ， 可 也 不知 是 什麼 輩數 ， 不敢 稱呼 。 ” 周瑞家 的 忙 回道 ： “ 這 就是 我 才 回 的 那 姥姥 了 。 ” 鳳姐 點頭 。 劉 姥姥 已 在 炕沿 上 坐 了 。 板兒 便 躲 在 背后 ， 百般 的 哄 他 出來 作揖 ， 他 死 也 不肯 。 　 　 鳳姐兒 笑 道 ： “ 親戚們 不大 走動 ， 都 疏遠 了 。 知道 的 呢 ， 說 你 們 棄厭 我們 ， 不肯 常來 ， 不 知道 的 那 起 小人 ， 還只 當我們 眼里 沒人 似的 。 ” 劉 姥姥 忙 念佛 道 ： “ 我們 家道 艱難 ， 走不起 ， 來 了 這里 ， 沒的給 姑奶奶 打 嘴 ， 就是 管家 爺們 看 著 也 不象 。 ” 鳳姐兒 笑 道 ： “ 這話 沒 的 叫 人 惡心 。 不過 借賴著 祖父 虛名 ， 作 了 窮 官兒 ， 誰 家 有 什麼 ， 不過 是 個 舊 日 的 空架子 。 俗語 說 ， ‘ 朝廷 還有 三門子 窮 親戚 ’ 呢 ， 何況 你 我 。 ” 說 著 ， 又 問周瑞家 的 回 了 太太 了 沒 有 。 周瑞家 的 道 ： “ 如今 等 奶奶 的 示下 。 ” 鳳姐 道 ： “ 你 去 瞧瞧 ， 要是 有人 有事 就罷 ， 得 閒兒 呢 就 回 ， 看 怎麼 說 。 ” 周瑞家 的 答應 著 去 了 。 　 　 這里 鳳姐 叫 人 抓些 果子 與 板兒 吃 ， 剛問些 閒話 時 ， 就 有家下 許多 媳婦 管事 的 來 回話 。 平兒 回 了 ， 鳳姐 道 ： “ 我 這里 陪客 呢 ， 晚上 再來 回 。 若 有 很 要 緊 的 ， 你 就 帶 進來 現辦 。 ” 平兒 出去 了 ， 一會 進來 說 ： “ 我 都 問了 ， 沒什麼 緊事 ， 我 就 叫 他們 散 了 。 ” 鳳姐 點頭 。 只見 周瑞家 的 回來 ， 向鳳姐 道 ： “ 太太 說 了 ， 今日 不得 閒 ， 二 奶奶 陪著 便是 一樣 。 多 謝費 心想 著 。 白來 逛逛 呢 便罷 ， 若 有 甚 說 的 ， 只管 告訴 二 奶奶 ， 都 是 一樣 。 ” 劉 姥姥 道 ： “ 也 沒 甚 說 的 ， 不過 是 來 瞧瞧 姑 太太 ， 姑奶奶 ， 也 是 親戚們 的 情分 。 ” 周瑞家 的 道 ： “ 沒 甚 說 的 便罷 ， 若 有 話 ， 只管 回二 奶奶 ， 是 和 太太 一樣 的 。 ” 一面 說 ， 一面 遞 眼色 與劉 姥姥 。 劉 姥姥 會意 ， 未語 先飛紅 的 臉 ， 欲 待 不 說 ， 今日 又 所 為 何來 ？ 只得 忍恥 說 道 ： “ 論理 今兒 初次 見 姑奶奶 ， 卻 不 該 說 ， 只是 大遠 的 奔 了 你老 這里 來 ， 也 少 不 的 說 了 。 ” 剛說 到 這里 ， 只 聽二門 上 小 廝們 回 說 ： “ 東府 里 的 小大爺 進來 了 。 ” 鳳姐 忙 止劉 姥姥 ： “ 不必 說 了 。 ” 一面 便問 ： “ 你蓉大爺 在 那里 呢 ？ ” 只 聽 一路 靴子 腳響 ， 進來 了 一個 十七八 歲 的 少年 ， 面目 清秀 ， 身材 俊俏 ， 輕 裘寶帶 ， 美服 華冠 。 劉 姥姥 此時 坐 不是 ， 立 不是 ， 藏 沒處 藏 。 鳳姐 笑 道 ： “ 你 只管 坐著 ， 這是 我 侄兒 。 ” 劉 姥姥 方 扭扭捏捏 在 炕沿 上 坐 了 。 　 　 賈蓉 笑 道 ： “ 我 父親 打發 我 來求 嬸子 ， 說 上 回 老舅 太太 給嬸子 的 那架 玻璃 炕屏 ， 明日 請 一個 要 緊 的 客 ， 借 了 略 擺 一 擺 就 送 過來 。 ” 鳳姐 道 ： ’ 說 遲 了 一日 ， 昨兒 已 經給 了 人 了 。 ” 賈蓉 聽 著 ， 嘻嘻 的 笑 著 ， 在 炕沿 上半 跪道 ： ’ 嬸子 若 不 借 ， 又 說 我 不會 說 話 了 ， 又 挨 一頓 好 打 呢 。 嬸子 只當 可怜 侄兒罷 。 ” 鳳姐 笑 道 ： “ 也 沒見 你 們 ， 王家 的 東西 都 是 好 的 不成 ？ 你們 那里 放著 那些 好 東西 ， 只是 看不見 ， 偏 我 的 就是 好 的 。 ” 賈蓉 笑 道 ： “ 那里 有 這個 好 呢 ！ 只求 開恩罷 。 ” 鳳姐 道 ： “ 若 碰 一點兒 ， 你 可 仔細 你 的 皮 ！ ” 因命 平兒 拿 了 樓房 的 鑰匙 ， 傳几個 妥當 人 抬 去 。 賈蓉 喜 的 眉開 眼笑 ， 說 ： “ 我親 自帶 了 人 拿 去 ， 別由 他們 亂 碰 。 ” 說 著 便 起身 出去 了 。 　 　 這里 鳳姐 忽 又 想起 一事 來 ， 便 向 窗外 叫 ： “ 蓉 哥 回來 。 ” 外面 几個 人 接聲 說 ： “ 蓉 大爺 快 回來 。 ” 賈蓉忙 复身 轉來 ， 垂手 侍立 ， 聽何 指示 。 那鳳姐 只管 慢慢 的 吃 茶 ， 出 了 半日 的 神 ， 又 笑 道 ： “ 罷了 ， 你且 去罷 。 晚飯 后 你 來 再 說罷 。 這會子 有人 ， 我 也 沒 精神 了 。 ” 賈蓉應 了 一聲 ， 方慢慢 的 退去 。 　 　 這里劉 姥姥 心神 方定 ， 才 又 說 道 ： “ 今日 我 帶 了 你 侄兒 來 ， 也 不 為 別 的 ， 只 因 他 老子 娘 在 家里 ， 連吃 的 都 沒 有 。 如 今天 又 冷 了 ， 越想 沒個 派 頭兒 ， 只得 帶 了 你 侄兒 奔 了 你老 來 。 ” 說 著 又 推板 兒道 ： “ 你 那 爹 在家 怎麼 教 你 來 ？ 打發 咱們 作煞 事來 ？ 只顧 吃 果子 咧 。 ” 鳳姐 早已 明白 了 ， 聽 他 不會 說 話 ， 因笑止 道 ： “ 不必 說 了 ， 我 知道 了 。 ” 因問 周瑞家 的 ： “ 這 姥姥 不知 可用 了 早飯 沒有 ？ ” 劉 姥姥 忙 說 道 ： “ 一 早就 往 這里 赶 咧 ， 那里 還有 吃 飯 的 工夫 咧 。 ” 鳳姐 聽 說 ， 忙命 快 傳飯 來 。 一時 周瑞家 的 傳 了 一桌 客飯 來 ， 擺 在 東邊 屋內 ， 過來 帶 了劉 姥姥 和 板 兒過 去 吃 飯 。 鳳姐 說 道 ： “ 周姐姐 ， 好生 讓 著些 兒 ， 我 不能 陪 了 。 ” 于是 過東邊 房里 來 。 又 叫過 周瑞家 的 去 ， 問他 才 回 了 太太 ， 說 了 些 什麼 ？ 周瑞家 的 道 ： “ 太太 說 ， 他們 家原 不是 一家子 ， 不過 因出 一姓 ， 當年 又 與 太 老爺 在 一處 作官 ， 偶然 連了 宗 的 。 這 几年 來 也 不大 走動 。 當時 他們 來 一遭 ， 卻 也 沒空 了 他們 。 今兒 既 來 了 瞧瞧 我們 ， 是 他 的 好意思 ， 也 不可 簡慢 了 他 。 便是 有什麼 說 的 ， 叫 奶奶 裁度 著 就是 了 。 ” 鳳姐 聽 了 說 道 ： “ 我 說 呢 ， 既 是 一家子 ， 我 如何 連影兒 也 不 知道 。 ” 　 　 說話 時 ， 劉 姥姥 已 吃 畢 了 飯 ， 拉 了 板兒 過來 ， 抹 舌 咂嘴 的 道 謝 。 鳳姐 笑 道 ： “ 且 請 坐下 ， 聽 我 告訴 你 老人家 。 方才 的 意思 ， 我 已 知道 了 。 若論 親戚 之間 ， 原該 不 等 上門來 就 該 有 照應 才 是 。 但 如今 家內 雜事 太煩 ， 太太 漸上 了 年紀 ， 一時 想不到 也 是 有 的 。 況是 我 近來 接著 管些 事 ， 都 不 知道 這些 親戚們 。 二則 外頭 看 著 雖 是 烈烈 轟 轟 的 ， 殊不知 大有 大 的 艱難 去 處 ， 說 與 人 也 未必 信罷 。 今兒 你 既 老遠 的 來 了 ， 又 是頭 一次 見 我 張口 ， 怎好 叫 你 空 回去 呢 。 可巧 昨兒 太太 給我 的 丫頭們 做 衣裳 的 二十 兩銀子 ， 我 還沒動 呢 ， 你 若 不 嫌少 ， 就 暫且 先 拿 了 去罷 。 ” 　 　 那劉 姥姥 先聽 見告 艱難 ， 只當 是 沒 有 ， 心里 便 突突 的 ， 后來 聽 見給 他 二十 兩 ， 喜 的 又 渾身 發痒 起來 ， 說道 ： “ 噯 ， 我 也 是 知道 艱難 的 。 但 俗語 說 的 ： ‘ 瘦死 的 駱駝 比馬大 ’ ， 憑 他 怎樣 ， 你老 拔根 寒毛 比 我們 的 腰 還粗 呢 ！ ” 周瑞家 的 見 他 說 的 粗鄙 ， 只管 使眼色 止 他 。 鳳姐 看見 ， 笑 而 不睬 ， 只命 平兒 把 昨兒 那 包銀子 拿 來 ， 再 拿 一吊 錢 來 ， 都 送到 劉 姥姥 的 跟前 。 鳳姐 乃 道 ： “ 這是 二十 兩銀子 ， 暫且給 這 孩子 做件 冬衣 罷 。 若 不 拿 著 ， 就 真是 怪 我 了 。 這錢 雇車 坐罷 。 改日 無事 ， 只管 來 逛逛 ， 方是 親戚們 的 意思 。 天 也 晚 了 ， 也 不虛留 你 們 了 ， 到 家里 該 問好 的 問個 好 兒罷 。 ” 一面 說 ， 一面 就 站 了 起來 。 　 　 劉 姥姥 只管 千恩萬謝 的 ， 拿 了 銀子 錢 ， 隨了 周瑞家 的 來 至 外面 。 周瑞家 的 道 ： “ 我 的 娘 啊 ！ 你 見 了 他 怎麼 倒 不會 說 了 ？ 開口 就是 ‘ 你 侄兒 ’ 。 我 說 句 不怕 你惱 的 話 ， 便是 親侄 兒 ， 也 要 說 和 軟些 。 蓉 大爺 才 是 他 的 正經 侄兒 呢 ， 他 怎麼 又 跑 出 這麼 一個 侄兒 來 了 。 ” 劉 姥姥 笑 道 ： “ 我 的 嫂子 ， 我見 了 他 ， 心眼 兒里 愛還 愛不過 來 ， 那里 還說 的 上 話 來 呢 。 ” 二人 說 著 ， 又 到 周瑞家 坐 了 片時 。 劉 姥姥 便 要 留下 一塊 銀子 與 周瑞家 孩子 們 買 果子吃 ， 周瑞家 的 如何 放在眼里 ， 執意 不肯 。 劉 姥姥 感謝 不 盡 ， 仍 從後門 去 了 。 正是 ： 　 　 得意 濃時易 接濟 ， 受恩深 處胜 親朋 。 　 　\n"
     ]
    }
   ],
   "source": [
    "print corpus[5]"
   ]
  },
  {
   "cell_type": "markdown",
   "metadata": {},
   "source": [
    "偷懶用 CountVectorizer 找出詞出現次數，記得 token_pattern 要改，否則單個字的詞會被忽略"
   ]
  },
  {
   "cell_type": "code",
   "execution_count": 69,
   "metadata": {
    "collapsed": true
   },
   "outputs": [],
   "source": [
    "from sklearn.feature_extraction.text import CountVectorizer\n",
    "vectorizer = CountVectorizer(min_df=1, token_pattern=r'(?u)\\b\\w+\\b')"
   ]
  },
  {
   "cell_type": "code",
   "execution_count": 70,
   "metadata": {
    "collapsed": false
   },
   "outputs": [],
   "source": [
    "X = vectorizer.fit_transform(corpus)"
   ]
  },
  {
   "cell_type": "code",
   "execution_count": 71,
   "metadata": {
    "collapsed": false
   },
   "outputs": [
    {
     "data": {
      "text/plain": [
       "array([[0, 0, 0, ..., 0, 0, 0],\n",
       "       [0, 0, 0, ..., 0, 0, 0],\n",
       "       [0, 0, 0, ..., 0, 0, 0],\n",
       "       ..., \n",
       "       [0, 0, 0, ..., 0, 0, 0],\n",
       "       [0, 0, 0, ..., 0, 0, 0],\n",
       "       [0, 0, 0, ..., 0, 0, 0]])"
      ]
     },
     "execution_count": 71,
     "metadata": {},
     "output_type": "execute_result"
    }
   ],
   "source": [
    "X.toarray()"
   ]
  },
  {
   "cell_type": "code",
   "execution_count": 72,
   "metadata": {
    "collapsed": false
   },
   "outputs": [
    {
     "data": {
      "text/plain": [
       "(120, 54723)"
      ]
     },
     "execution_count": 72,
     "metadata": {},
     "output_type": "execute_result"
    }
   ],
   "source": [
    "X.shape"
   ]
  },
  {
   "cell_type": "code",
   "execution_count": 74,
   "metadata": {
    "collapsed": false
   },
   "outputs": [],
   "source": [
    "df = pd.DataFrame({\"term\":vectorizer.get_feature_names(), \"occurrences\": np.asarray(X.sum(axis=0)).ravel().tolist()})"
   ]
  },
  {
   "cell_type": "code",
   "execution_count": 75,
   "metadata": {
    "collapsed": false
   },
   "outputs": [],
   "source": [
    "sorted_df = df.sort_values(\"occurrences\", ascending=False)"
   ]
  },
  {
   "cell_type": "code",
   "execution_count": 85,
   "metadata": {
    "collapsed": false
   },
   "outputs": [
    {
     "data": {
      "text/html": [
       "<div>\n",
       "<table border=\"1\" class=\"dataframe\">\n",
       "  <thead>\n",
       "    <tr style=\"text-align: right;\">\n",
       "      <th></th>\n",
       "      <th>occurrences</th>\n",
       "      <th>term</th>\n",
       "    </tr>\n",
       "  </thead>\n",
       "  <tbody>\n",
       "    <tr>\n",
       "      <th>3048</th>\n",
       "      <td>19739</td>\n",
       "      <td>了</td>\n",
       "    </tr>\n",
       "    <tr>\n",
       "      <th>35128</th>\n",
       "      <td>14931</td>\n",
       "      <td>的</td>\n",
       "    </tr>\n",
       "    <tr>\n",
       "      <th>44711</th>\n",
       "      <td>8031</td>\n",
       "      <td>說</td>\n",
       "    </tr>\n",
       "    <tr>\n",
       "      <th>22680</th>\n",
       "      <td>6945</td>\n",
       "      <td>我</td>\n",
       "    </tr>\n",
       "    <tr>\n",
       "      <th>49015</th>\n",
       "      <td>6274</td>\n",
       "      <td>道</td>\n",
       "    </tr>\n",
       "    <tr>\n",
       "      <th>4101</th>\n",
       "      <td>6134</td>\n",
       "      <td>他</td>\n",
       "    </tr>\n",
       "    <tr>\n",
       "      <th>5062</th>\n",
       "      <td>6106</td>\n",
       "      <td>你</td>\n",
       "    </tr>\n",
       "    <tr>\n",
       "      <th>2984</th>\n",
       "      <td>5729</td>\n",
       "      <td>也</td>\n",
       "    </tr>\n",
       "    <tr>\n",
       "      <th>26858</th>\n",
       "      <td>5628</td>\n",
       "      <td>是</td>\n",
       "    </tr>\n",
       "    <tr>\n",
       "      <th>10294</th>\n",
       "      <td>4938</td>\n",
       "      <td>又</td>\n",
       "    </tr>\n",
       "    <tr>\n",
       "      <th>5218</th>\n",
       "      <td>4634</td>\n",
       "      <td>來</td>\n",
       "    </tr>\n",
       "    <tr>\n",
       "      <th>10218</th>\n",
       "      <td>3744</td>\n",
       "      <td>去</td>\n",
       "    </tr>\n",
       "    <tr>\n",
       "      <th>42039</th>\n",
       "      <td>3049</td>\n",
       "      <td>著</td>\n",
       "    </tr>\n",
       "    <tr>\n",
       "      <th>5491</th>\n",
       "      <td>3037</td>\n",
       "      <td>便</td>\n",
       "    </tr>\n",
       "    <tr>\n",
       "      <th>1534</th>\n",
       "      <td>2856</td>\n",
       "      <td>不</td>\n",
       "    </tr>\n",
       "    <tr>\n",
       "      <th>27507</th>\n",
       "      <td>2841</td>\n",
       "      <td>有</td>\n",
       "    </tr>\n",
       "    <tr>\n",
       "      <th>13849</th>\n",
       "      <td>2834</td>\n",
       "      <td>在</td>\n",
       "    </tr>\n",
       "    <tr>\n",
       "      <th>40058</th>\n",
       "      <td>2774</td>\n",
       "      <td>聽</td>\n",
       "    </tr>\n",
       "    <tr>\n",
       "      <th>37543</th>\n",
       "      <td>2578</td>\n",
       "      <td>笑</td>\n",
       "    </tr>\n",
       "    <tr>\n",
       "      <th>50299</th>\n",
       "      <td>2556</td>\n",
       "      <td>都</td>\n",
       "    </tr>\n",
       "    <tr>\n",
       "      <th>3612</th>\n",
       "      <td>2505</td>\n",
       "      <td>人</td>\n",
       "    </tr>\n",
       "    <tr>\n",
       "      <th>18893</th>\n",
       "      <td>2368</td>\n",
       "      <td>就</td>\n",
       "    </tr>\n",
       "    <tr>\n",
       "      <th>17556</th>\n",
       "      <td>1921</td>\n",
       "      <td>寶玉</td>\n",
       "    </tr>\n",
       "    <tr>\n",
       "      <th>43670</th>\n",
       "      <td>1872</td>\n",
       "      <td>見</td>\n",
       "    </tr>\n",
       "    <tr>\n",
       "      <th>10935</th>\n",
       "      <td>1865</td>\n",
       "      <td>叫</td>\n",
       "    </tr>\n",
       "    <tr>\n",
       "      <th>11944</th>\n",
       "      <td>1818</td>\n",
       "      <td>呢</td>\n",
       "    </tr>\n",
       "    <tr>\n",
       "      <th>15651</th>\n",
       "      <td>1670</td>\n",
       "      <td>好</td>\n",
       "    </tr>\n",
       "    <tr>\n",
       "      <th>45809</th>\n",
       "      <td>1591</td>\n",
       "      <td>賈母</td>\n",
       "    </tr>\n",
       "    <tr>\n",
       "      <th>37783</th>\n",
       "      <td>1583</td>\n",
       "      <td>等</td>\n",
       "    </tr>\n",
       "    <tr>\n",
       "      <th>44517</th>\n",
       "      <td>1573</td>\n",
       "      <td>話</td>\n",
       "    </tr>\n",
       "    <tr>\n",
       "      <th>...</th>\n",
       "      <td>...</td>\n",
       "      <td>...</td>\n",
       "    </tr>\n",
       "    <tr>\n",
       "      <th>20153</th>\n",
       "      <td>199</td>\n",
       "      <td>弄</td>\n",
       "    </tr>\n",
       "    <tr>\n",
       "      <th>9312</th>\n",
       "      <td>199</td>\n",
       "      <td>劉</td>\n",
       "    </tr>\n",
       "    <tr>\n",
       "      <th>34573</th>\n",
       "      <td>197</td>\n",
       "      <td>病</td>\n",
       "    </tr>\n",
       "    <tr>\n",
       "      <th>48512</th>\n",
       "      <td>196</td>\n",
       "      <td>連忙</td>\n",
       "    </tr>\n",
       "    <tr>\n",
       "      <th>50929</th>\n",
       "      <td>194</td>\n",
       "      <td>銀子</td>\n",
       "    </tr>\n",
       "    <tr>\n",
       "      <th>1716</th>\n",
       "      <td>193</td>\n",
       "      <td>不如</td>\n",
       "    </tr>\n",
       "    <tr>\n",
       "      <th>51242</th>\n",
       "      <td>192</td>\n",
       "      <td>長</td>\n",
       "    </tr>\n",
       "    <tr>\n",
       "      <th>10793</th>\n",
       "      <td>192</td>\n",
       "      <td>只怕</td>\n",
       "    </tr>\n",
       "    <tr>\n",
       "      <th>46564</th>\n",
       "      <td>191</td>\n",
       "      <td>趙</td>\n",
       "    </tr>\n",
       "    <tr>\n",
       "      <th>4910</th>\n",
       "      <td>191</td>\n",
       "      <td>作</td>\n",
       "    </tr>\n",
       "    <tr>\n",
       "      <th>2050</th>\n",
       "      <td>191</td>\n",
       "      <td>不肯</td>\n",
       "    </tr>\n",
       "    <tr>\n",
       "      <th>15660</th>\n",
       "      <td>188</td>\n",
       "      <td>好些</td>\n",
       "    </tr>\n",
       "    <tr>\n",
       "      <th>13855</th>\n",
       "      <td>187</td>\n",
       "      <td>在外</td>\n",
       "    </tr>\n",
       "    <tr>\n",
       "      <th>18463</th>\n",
       "      <td>187</td>\n",
       "      <td>對</td>\n",
       "    </tr>\n",
       "    <tr>\n",
       "      <th>35779</th>\n",
       "      <td>187</td>\n",
       "      <td>看見</td>\n",
       "    </tr>\n",
       "    <tr>\n",
       "      <th>11807</th>\n",
       "      <td>186</td>\n",
       "      <td>吩咐</td>\n",
       "    </tr>\n",
       "    <tr>\n",
       "      <th>2084</th>\n",
       "      <td>186</td>\n",
       "      <td>不要</td>\n",
       "    </tr>\n",
       "    <tr>\n",
       "      <th>29292</th>\n",
       "      <td>185</td>\n",
       "      <td>正</td>\n",
       "    </tr>\n",
       "    <tr>\n",
       "      <th>42637</th>\n",
       "      <td>185</td>\n",
       "      <td>薛蟠</td>\n",
       "    </tr>\n",
       "    <tr>\n",
       "      <th>30735</th>\n",
       "      <td>184</td>\n",
       "      <td>況且</td>\n",
       "    </tr>\n",
       "    <tr>\n",
       "      <th>22127</th>\n",
       "      <td>184</td>\n",
       "      <td>想起</td>\n",
       "    </tr>\n",
       "    <tr>\n",
       "      <th>5590</th>\n",
       "      <td>183</td>\n",
       "      <td>便是</td>\n",
       "    </tr>\n",
       "    <tr>\n",
       "      <th>19796</th>\n",
       "      <td>182</td>\n",
       "      <td>年</td>\n",
       "    </tr>\n",
       "    <tr>\n",
       "      <th>46024</th>\n",
       "      <td>182</td>\n",
       "      <td>賈赦</td>\n",
       "    </tr>\n",
       "    <tr>\n",
       "      <th>52384</th>\n",
       "      <td>181</td>\n",
       "      <td>難道</td>\n",
       "    </tr>\n",
       "    <tr>\n",
       "      <th>45969</th>\n",
       "      <td>178</td>\n",
       "      <td>賈蓉</td>\n",
       "    </tr>\n",
       "    <tr>\n",
       "      <th>13519</th>\n",
       "      <td>177</td>\n",
       "      <td>因此</td>\n",
       "    </tr>\n",
       "    <tr>\n",
       "      <th>6662</th>\n",
       "      <td>177</td>\n",
       "      <td>兄弟</td>\n",
       "    </tr>\n",
       "    <tr>\n",
       "      <th>4043</th>\n",
       "      <td>177</td>\n",
       "      <td>仍</td>\n",
       "    </tr>\n",
       "    <tr>\n",
       "      <th>21521</th>\n",
       "      <td>176</td>\n",
       "      <td>急</td>\n",
       "    </tr>\n",
       "  </tbody>\n",
       "</table>\n",
       "<p>310 rows × 2 columns</p>\n",
       "</div>"
      ],
      "text/plain": [
       "       occurrences term\n",
       "3048         19739    了\n",
       "35128        14931    的\n",
       "44711         8031    說\n",
       "22680         6945    我\n",
       "49015         6274    道\n",
       "4101          6134    他\n",
       "5062          6106    你\n",
       "2984          5729    也\n",
       "26858         5628    是\n",
       "10294         4938    又\n",
       "5218          4634    來\n",
       "10218         3744    去\n",
       "42039         3049    著\n",
       "5491          3037    便\n",
       "1534          2856    不\n",
       "27507         2841    有\n",
       "13849         2834    在\n",
       "40058         2774    聽\n",
       "37543         2578    笑\n",
       "50299         2556    都\n",
       "3612          2505    人\n",
       "18893         2368    就\n",
       "17556         1921   寶玉\n",
       "43670         1872    見\n",
       "10935         1865    叫\n",
       "11944         1818    呢\n",
       "15651         1670    好\n",
       "45809         1591   賈母\n",
       "37783         1583    等\n",
       "44517         1573    話\n",
       "...            ...  ...\n",
       "20153          199    弄\n",
       "9312           199    劉\n",
       "34573          197    病\n",
       "48512          196   連忙\n",
       "50929          194   銀子\n",
       "1716           193   不如\n",
       "51242          192    長\n",
       "10793          192   只怕\n",
       "46564          191    趙\n",
       "4910           191    作\n",
       "2050           191   不肯\n",
       "15660          188   好些\n",
       "13855          187   在外\n",
       "18463          187    對\n",
       "35779          187   看見\n",
       "11807          186   吩咐\n",
       "2084           186   不要\n",
       "29292          185    正\n",
       "42637          185   薛蟠\n",
       "30735          184   況且\n",
       "22127          184   想起\n",
       "5590           183   便是\n",
       "19796          182    年\n",
       "46024          182   賈赦\n",
       "52384          181   難道\n",
       "45969          178   賈蓉\n",
       "13519          177   因此\n",
       "6662           177   兄弟\n",
       "4043           177    仍\n",
       "21521          176    急\n",
       "\n",
       "[310 rows x 2 columns]"
      ]
     },
     "execution_count": 85,
     "metadata": {},
     "output_type": "execute_result"
    }
   ],
   "source": [
    "top310_df = sorted_df[:310]\n",
    "top310_df"
   ]
  },
  {
   "cell_type": "code",
   "execution_count": 202,
   "metadata": {
    "collapsed": false
   },
   "outputs": [],
   "source": [
    "# 把這裡的結果存下來了，如果要完整重現我的過程，應該載入 top310terms.csv 繼續分析\n",
    "# top310_df.term.to_csv(\"top310terms.csv\", encoding=\"utf8\", index=False)"
   ]
  },
  {
   "cell_type": "markdown",
   "metadata": {},
   "source": [
    "人工篩選掉人名相關的詞，刪掉的詞存在 removed_words.txt"
   ]
  },
  {
   "cell_type": "code",
   "execution_count": 91,
   "metadata": {
    "collapsed": true
   },
   "outputs": [],
   "source": [
    "removed_words = []\n",
    "with open(\"removed_words.txt\", \"r\") as f:\n",
    "    for line in f.readlines():\n",
    "        removed_words.append(line.strip().decode(\"utf8\"))"
   ]
  },
  {
   "cell_type": "code",
   "execution_count": 203,
   "metadata": {
    "collapsed": false
   },
   "outputs": [
    {
     "name": "stdout",
     "output_type": "stream",
     "text": [
      "寶玉 賈母 鳳姐 王夫人 老太太 寶釵 賈璉 襲人 平兒 黛玉 寶玉道 探春 薛姨媽 賈政 李 賈珍 晴雯 鳳姐兒 湘云 姥姥 二爺 邢夫人 林黛玉 香菱 寶玉笑 紫鵑 尤氏 劉 趙 薛蟠 賈赦 賈蓉\n"
     ]
    }
   ],
   "source": [
    "print \" \".join(removed_words)"
   ]
  },
  {
   "cell_type": "code",
   "execution_count": 95,
   "metadata": {
    "collapsed": false
   },
   "outputs": [],
   "source": [
    "feature_words = set(top310_df.term.tolist())- set(removed_words)"
   ]
  },
  {
   "cell_type": "code",
   "execution_count": 96,
   "metadata": {
    "collapsed": false
   },
   "outputs": [
    {
     "data": {
      "text/plain": [
       "278"
      ]
     },
     "execution_count": 96,
     "metadata": {},
     "output_type": "execute_result"
    }
   ],
   "source": [
    "len(feature_words)"
   ]
  },
  {
   "cell_type": "markdown",
   "metadata": {},
   "source": [
    "第二個 Vectorizer 只用這 278 個詞當特徵"
   ]
  },
  {
   "cell_type": "code",
   "execution_count": 109,
   "metadata": {
    "collapsed": false
   },
   "outputs": [],
   "source": [
    "vectorizer2 = CountVectorizer(min_df=1, vocabulary=feature_words)"
   ]
  },
  {
   "cell_type": "code",
   "execution_count": 110,
   "metadata": {
    "collapsed": false
   },
   "outputs": [],
   "source": [
    "X2 = vectorizer2.fit_transform(corpus)"
   ]
  },
  {
   "cell_type": "code",
   "execution_count": 113,
   "metadata": {
    "collapsed": false
   },
   "outputs": [],
   "source": [
    "tdm = X2.toarray()"
   ]
  },
  {
   "cell_type": "code",
   "execution_count": 114,
   "metadata": {
    "collapsed": false
   },
   "outputs": [
    {
     "data": {
      "text/plain": [
       "(120, 278)"
      ]
     },
     "execution_count": 114,
     "metadata": {},
     "output_type": "execute_result"
    }
   ],
   "source": [
    "tdm.shape"
   ]
  },
  {
   "cell_type": "markdown",
   "metadata": {},
   "source": [
    "## 降維做視覺化"
   ]
  },
  {
   "cell_type": "code",
   "execution_count": 112,
   "metadata": {
    "collapsed": true
   },
   "outputs": [],
   "source": [
    "from sklearn.decomposition import PCA\n",
    "pca = PCA(n_components=3)"
   ]
  },
  {
   "cell_type": "code",
   "execution_count": 115,
   "metadata": {
    "collapsed": false
   },
   "outputs": [
    {
     "data": {
      "text/plain": [
       "PCA(copy=True, n_components=3, whiten=False)"
      ]
     },
     "execution_count": 115,
     "metadata": {},
     "output_type": "execute_result"
    }
   ],
   "source": [
    "pca.fit(tdm)"
   ]
  },
  {
   "cell_type": "code",
   "execution_count": 117,
   "metadata": {
    "collapsed": false
   },
   "outputs": [],
   "source": [
    "tdm_3d = pca.transform(tdm)"
   ]
  },
  {
   "cell_type": "code",
   "execution_count": 142,
   "metadata": {
    "collapsed": false
   },
   "outputs": [],
   "source": [
    "%matplotlib notebook"
   ]
  },
  {
   "cell_type": "code",
   "execution_count": 155,
   "metadata": {
    "collapsed": true
   },
   "outputs": [],
   "source": [
    "from mpl_toolkits.mplot3d import Axes3D\n",
    "import matplotlib.pyplot as plt"
   ]
  },
  {
   "cell_type": "code",
   "execution_count": 156,
   "metadata": {
    "collapsed": false
   },
   "outputs": [
    {
     "data": {
      "application/javascript": [
       "/* Put everything inside the global mpl namespace */\n",
       "window.mpl = {};\n",
       "\n",
       "mpl.get_websocket_type = function() {\n",
       "    if (typeof(WebSocket) !== 'undefined') {\n",
       "        return WebSocket;\n",
       "    } else if (typeof(MozWebSocket) !== 'undefined') {\n",
       "        return MozWebSocket;\n",
       "    } else {\n",
       "        alert('Your browser does not have WebSocket support.' +\n",
       "              'Please try Chrome, Safari or Firefox ≥ 6. ' +\n",
       "              'Firefox 4 and 5 are also supported but you ' +\n",
       "              'have to enable WebSockets in about:config.');\n",
       "    };\n",
       "}\n",
       "\n",
       "mpl.figure = function(figure_id, websocket, ondownload, parent_element) {\n",
       "    this.id = figure_id;\n",
       "\n",
       "    this.ws = websocket;\n",
       "\n",
       "    this.supports_binary = (this.ws.binaryType != undefined);\n",
       "\n",
       "    if (!this.supports_binary) {\n",
       "        var warnings = document.getElementById(\"mpl-warnings\");\n",
       "        if (warnings) {\n",
       "            warnings.style.display = 'block';\n",
       "            warnings.textContent = (\n",
       "                \"This browser does not support binary websocket messages. \" +\n",
       "                    \"Performance may be slow.\");\n",
       "        }\n",
       "    }\n",
       "\n",
       "    this.imageObj = new Image();\n",
       "\n",
       "    this.context = undefined;\n",
       "    this.message = undefined;\n",
       "    this.canvas = undefined;\n",
       "    this.rubberband_canvas = undefined;\n",
       "    this.rubberband_context = undefined;\n",
       "    this.format_dropdown = undefined;\n",
       "\n",
       "    this.image_mode = 'full';\n",
       "\n",
       "    this.root = $('<div/>');\n",
       "    this._root_extra_style(this.root)\n",
       "    this.root.attr('style', 'display: inline-block');\n",
       "\n",
       "    $(parent_element).append(this.root);\n",
       "\n",
       "    this._init_header(this);\n",
       "    this._init_canvas(this);\n",
       "    this._init_toolbar(this);\n",
       "\n",
       "    var fig = this;\n",
       "\n",
       "    this.waiting = false;\n",
       "\n",
       "    this.ws.onopen =  function () {\n",
       "            fig.send_message(\"supports_binary\", {value: fig.supports_binary});\n",
       "            fig.send_message(\"send_image_mode\", {});\n",
       "            fig.send_message(\"refresh\", {});\n",
       "        }\n",
       "\n",
       "    this.imageObj.onload = function() {\n",
       "            if (fig.image_mode == 'full') {\n",
       "                // Full images could contain transparency (where diff images\n",
       "                // almost always do), so we need to clear the canvas so that\n",
       "                // there is no ghosting.\n",
       "                fig.context.clearRect(0, 0, fig.canvas.width, fig.canvas.height);\n",
       "            }\n",
       "            fig.context.drawImage(fig.imageObj, 0, 0);\n",
       "        };\n",
       "\n",
       "    this.imageObj.onunload = function() {\n",
       "        this.ws.close();\n",
       "    }\n",
       "\n",
       "    this.ws.onmessage = this._make_on_message_function(this);\n",
       "\n",
       "    this.ondownload = ondownload;\n",
       "}\n",
       "\n",
       "mpl.figure.prototype._init_header = function() {\n",
       "    var titlebar = $(\n",
       "        '<div class=\"ui-dialog-titlebar ui-widget-header ui-corner-all ' +\n",
       "        'ui-helper-clearfix\"/>');\n",
       "    var titletext = $(\n",
       "        '<div class=\"ui-dialog-title\" style=\"width: 100%; ' +\n",
       "        'text-align: center; padding: 3px;\"/>');\n",
       "    titlebar.append(titletext)\n",
       "    this.root.append(titlebar);\n",
       "    this.header = titletext[0];\n",
       "}\n",
       "\n",
       "\n",
       "\n",
       "mpl.figure.prototype._canvas_extra_style = function(canvas_div) {\n",
       "\n",
       "}\n",
       "\n",
       "\n",
       "mpl.figure.prototype._root_extra_style = function(canvas_div) {\n",
       "\n",
       "}\n",
       "\n",
       "mpl.figure.prototype._init_canvas = function() {\n",
       "    var fig = this;\n",
       "\n",
       "    var canvas_div = $('<div/>');\n",
       "\n",
       "    canvas_div.attr('style', 'position: relative; clear: both; outline: 0');\n",
       "\n",
       "    function canvas_keyboard_event(event) {\n",
       "        return fig.key_event(event, event['data']);\n",
       "    }\n",
       "\n",
       "    canvas_div.keydown('key_press', canvas_keyboard_event);\n",
       "    canvas_div.keyup('key_release', canvas_keyboard_event);\n",
       "    this.canvas_div = canvas_div\n",
       "    this._canvas_extra_style(canvas_div)\n",
       "    this.root.append(canvas_div);\n",
       "\n",
       "    var canvas = $('<canvas/>');\n",
       "    canvas.addClass('mpl-canvas');\n",
       "    canvas.attr('style', \"left: 0; top: 0; z-index: 0; outline: 0\")\n",
       "\n",
       "    this.canvas = canvas[0];\n",
       "    this.context = canvas[0].getContext(\"2d\");\n",
       "\n",
       "    var rubberband = $('<canvas/>');\n",
       "    rubberband.attr('style', \"position: absolute; left: 0; top: 0; z-index: 1;\")\n",
       "\n",
       "    var pass_mouse_events = true;\n",
       "\n",
       "    canvas_div.resizable({\n",
       "        start: function(event, ui) {\n",
       "            pass_mouse_events = false;\n",
       "        },\n",
       "        resize: function(event, ui) {\n",
       "            fig.request_resize(ui.size.width, ui.size.height);\n",
       "        },\n",
       "        stop: function(event, ui) {\n",
       "            pass_mouse_events = true;\n",
       "            fig.request_resize(ui.size.width, ui.size.height);\n",
       "        },\n",
       "    });\n",
       "\n",
       "    function mouse_event_fn(event) {\n",
       "        if (pass_mouse_events)\n",
       "            return fig.mouse_event(event, event['data']);\n",
       "    }\n",
       "\n",
       "    rubberband.mousedown('button_press', mouse_event_fn);\n",
       "    rubberband.mouseup('button_release', mouse_event_fn);\n",
       "    // Throttle sequential mouse events to 1 every 20ms.\n",
       "    rubberband.mousemove('motion_notify', mouse_event_fn);\n",
       "\n",
       "    rubberband.mouseenter('figure_enter', mouse_event_fn);\n",
       "    rubberband.mouseleave('figure_leave', mouse_event_fn);\n",
       "\n",
       "    canvas_div.on(\"wheel\", function (event) {\n",
       "        event = event.originalEvent;\n",
       "        event['data'] = 'scroll'\n",
       "        if (event.deltaY < 0) {\n",
       "            event.step = 1;\n",
       "        } else {\n",
       "            event.step = -1;\n",
       "        }\n",
       "        mouse_event_fn(event);\n",
       "    });\n",
       "\n",
       "    canvas_div.append(canvas);\n",
       "    canvas_div.append(rubberband);\n",
       "\n",
       "    this.rubberband = rubberband;\n",
       "    this.rubberband_canvas = rubberband[0];\n",
       "    this.rubberband_context = rubberband[0].getContext(\"2d\");\n",
       "    this.rubberband_context.strokeStyle = \"#000000\";\n",
       "\n",
       "    this._resize_canvas = function(width, height) {\n",
       "        // Keep the size of the canvas, canvas container, and rubber band\n",
       "        // canvas in synch.\n",
       "        canvas_div.css('width', width)\n",
       "        canvas_div.css('height', height)\n",
       "\n",
       "        canvas.attr('width', width);\n",
       "        canvas.attr('height', height);\n",
       "\n",
       "        rubberband.attr('width', width);\n",
       "        rubberband.attr('height', height);\n",
       "    }\n",
       "\n",
       "    // Set the figure to an initial 600x600px, this will subsequently be updated\n",
       "    // upon first draw.\n",
       "    this._resize_canvas(600, 600);\n",
       "\n",
       "    // Disable right mouse context menu.\n",
       "    $(this.rubberband_canvas).bind(\"contextmenu\",function(e){\n",
       "        return false;\n",
       "    });\n",
       "\n",
       "    function set_focus () {\n",
       "        canvas.focus();\n",
       "        canvas_div.focus();\n",
       "    }\n",
       "\n",
       "    window.setTimeout(set_focus, 100);\n",
       "}\n",
       "\n",
       "mpl.figure.prototype._init_toolbar = function() {\n",
       "    var fig = this;\n",
       "\n",
       "    var nav_element = $('<div/>')\n",
       "    nav_element.attr('style', 'width: 100%');\n",
       "    this.root.append(nav_element);\n",
       "\n",
       "    // Define a callback function for later on.\n",
       "    function toolbar_event(event) {\n",
       "        return fig.toolbar_button_onclick(event['data']);\n",
       "    }\n",
       "    function toolbar_mouse_event(event) {\n",
       "        return fig.toolbar_button_onmouseover(event['data']);\n",
       "    }\n",
       "\n",
       "    for(var toolbar_ind in mpl.toolbar_items) {\n",
       "        var name = mpl.toolbar_items[toolbar_ind][0];\n",
       "        var tooltip = mpl.toolbar_items[toolbar_ind][1];\n",
       "        var image = mpl.toolbar_items[toolbar_ind][2];\n",
       "        var method_name = mpl.toolbar_items[toolbar_ind][3];\n",
       "\n",
       "        if (!name) {\n",
       "            // put a spacer in here.\n",
       "            continue;\n",
       "        }\n",
       "        var button = $('<button/>');\n",
       "        button.addClass('ui-button ui-widget ui-state-default ui-corner-all ' +\n",
       "                        'ui-button-icon-only');\n",
       "        button.attr('role', 'button');\n",
       "        button.attr('aria-disabled', 'false');\n",
       "        button.click(method_name, toolbar_event);\n",
       "        button.mouseover(tooltip, toolbar_mouse_event);\n",
       "\n",
       "        var icon_img = $('<span/>');\n",
       "        icon_img.addClass('ui-button-icon-primary ui-icon');\n",
       "        icon_img.addClass(image);\n",
       "        icon_img.addClass('ui-corner-all');\n",
       "\n",
       "        var tooltip_span = $('<span/>');\n",
       "        tooltip_span.addClass('ui-button-text');\n",
       "        tooltip_span.html(tooltip);\n",
       "\n",
       "        button.append(icon_img);\n",
       "        button.append(tooltip_span);\n",
       "\n",
       "        nav_element.append(button);\n",
       "    }\n",
       "\n",
       "    var fmt_picker_span = $('<span/>');\n",
       "\n",
       "    var fmt_picker = $('<select/>');\n",
       "    fmt_picker.addClass('mpl-toolbar-option ui-widget ui-widget-content');\n",
       "    fmt_picker_span.append(fmt_picker);\n",
       "    nav_element.append(fmt_picker_span);\n",
       "    this.format_dropdown = fmt_picker[0];\n",
       "\n",
       "    for (var ind in mpl.extensions) {\n",
       "        var fmt = mpl.extensions[ind];\n",
       "        var option = $(\n",
       "            '<option/>', {selected: fmt === mpl.default_extension}).html(fmt);\n",
       "        fmt_picker.append(option)\n",
       "    }\n",
       "\n",
       "    // Add hover states to the ui-buttons\n",
       "    $( \".ui-button\" ).hover(\n",
       "        function() { $(this).addClass(\"ui-state-hover\");},\n",
       "        function() { $(this).removeClass(\"ui-state-hover\");}\n",
       "    );\n",
       "\n",
       "    var status_bar = $('<span class=\"mpl-message\"/>');\n",
       "    nav_element.append(status_bar);\n",
       "    this.message = status_bar[0];\n",
       "}\n",
       "\n",
       "mpl.figure.prototype.request_resize = function(x_pixels, y_pixels) {\n",
       "    // Request matplotlib to resize the figure. Matplotlib will then trigger a resize in the client,\n",
       "    // which will in turn request a refresh of the image.\n",
       "    this.send_message('resize', {'width': x_pixels, 'height': y_pixels});\n",
       "}\n",
       "\n",
       "mpl.figure.prototype.send_message = function(type, properties) {\n",
       "    properties['type'] = type;\n",
       "    properties['figure_id'] = this.id;\n",
       "    this.ws.send(JSON.stringify(properties));\n",
       "}\n",
       "\n",
       "mpl.figure.prototype.send_draw_message = function() {\n",
       "    if (!this.waiting) {\n",
       "        this.waiting = true;\n",
       "        this.ws.send(JSON.stringify({type: \"draw\", figure_id: this.id}));\n",
       "    }\n",
       "}\n",
       "\n",
       "\n",
       "mpl.figure.prototype.handle_save = function(fig, msg) {\n",
       "    var format_dropdown = fig.format_dropdown;\n",
       "    var format = format_dropdown.options[format_dropdown.selectedIndex].value;\n",
       "    fig.ondownload(fig, format);\n",
       "}\n",
       "\n",
       "\n",
       "mpl.figure.prototype.handle_resize = function(fig, msg) {\n",
       "    var size = msg['size'];\n",
       "    if (size[0] != fig.canvas.width || size[1] != fig.canvas.height) {\n",
       "        fig._resize_canvas(size[0], size[1]);\n",
       "        fig.send_message(\"refresh\", {});\n",
       "    };\n",
       "}\n",
       "\n",
       "mpl.figure.prototype.handle_rubberband = function(fig, msg) {\n",
       "    var x0 = msg['x0'];\n",
       "    var y0 = fig.canvas.height - msg['y0'];\n",
       "    var x1 = msg['x1'];\n",
       "    var y1 = fig.canvas.height - msg['y1'];\n",
       "    x0 = Math.floor(x0) + 0.5;\n",
       "    y0 = Math.floor(y0) + 0.5;\n",
       "    x1 = Math.floor(x1) + 0.5;\n",
       "    y1 = Math.floor(y1) + 0.5;\n",
       "    var min_x = Math.min(x0, x1);\n",
       "    var min_y = Math.min(y0, y1);\n",
       "    var width = Math.abs(x1 - x0);\n",
       "    var height = Math.abs(y1 - y0);\n",
       "\n",
       "    fig.rubberband_context.clearRect(\n",
       "        0, 0, fig.canvas.width, fig.canvas.height);\n",
       "\n",
       "    fig.rubberband_context.strokeRect(min_x, min_y, width, height);\n",
       "}\n",
       "\n",
       "mpl.figure.prototype.handle_figure_label = function(fig, msg) {\n",
       "    // Updates the figure title.\n",
       "    fig.header.textContent = msg['label'];\n",
       "}\n",
       "\n",
       "mpl.figure.prototype.handle_cursor = function(fig, msg) {\n",
       "    var cursor = msg['cursor'];\n",
       "    switch(cursor)\n",
       "    {\n",
       "    case 0:\n",
       "        cursor = 'pointer';\n",
       "        break;\n",
       "    case 1:\n",
       "        cursor = 'default';\n",
       "        break;\n",
       "    case 2:\n",
       "        cursor = 'crosshair';\n",
       "        break;\n",
       "    case 3:\n",
       "        cursor = 'move';\n",
       "        break;\n",
       "    }\n",
       "    fig.rubberband_canvas.style.cursor = cursor;\n",
       "}\n",
       "\n",
       "mpl.figure.prototype.handle_message = function(fig, msg) {\n",
       "    fig.message.textContent = msg['message'];\n",
       "}\n",
       "\n",
       "mpl.figure.prototype.handle_draw = function(fig, msg) {\n",
       "    // Request the server to send over a new figure.\n",
       "    fig.send_draw_message();\n",
       "}\n",
       "\n",
       "mpl.figure.prototype.handle_image_mode = function(fig, msg) {\n",
       "    fig.image_mode = msg['mode'];\n",
       "}\n",
       "\n",
       "mpl.figure.prototype.updated_canvas_event = function() {\n",
       "    // Called whenever the canvas gets updated.\n",
       "    this.send_message(\"ack\", {});\n",
       "}\n",
       "\n",
       "// A function to construct a web socket function for onmessage handling.\n",
       "// Called in the figure constructor.\n",
       "mpl.figure.prototype._make_on_message_function = function(fig) {\n",
       "    return function socket_on_message(evt) {\n",
       "        if (evt.data instanceof Blob) {\n",
       "            /* FIXME: We get \"Resource interpreted as Image but\n",
       "             * transferred with MIME type text/plain:\" errors on\n",
       "             * Chrome.  But how to set the MIME type?  It doesn't seem\n",
       "             * to be part of the websocket stream */\n",
       "            evt.data.type = \"image/png\";\n",
       "\n",
       "            /* Free the memory for the previous frames */\n",
       "            if (fig.imageObj.src) {\n",
       "                (window.URL || window.webkitURL).revokeObjectURL(\n",
       "                    fig.imageObj.src);\n",
       "            }\n",
       "\n",
       "            fig.imageObj.src = (window.URL || window.webkitURL).createObjectURL(\n",
       "                evt.data);\n",
       "            fig.updated_canvas_event();\n",
       "            fig.waiting = false;\n",
       "            return;\n",
       "        }\n",
       "        else if (typeof evt.data === 'string' && evt.data.slice(0, 21) == \"data:image/png;base64\") {\n",
       "            fig.imageObj.src = evt.data;\n",
       "            fig.updated_canvas_event();\n",
       "            fig.waiting = false;\n",
       "            return;\n",
       "        }\n",
       "\n",
       "        var msg = JSON.parse(evt.data);\n",
       "        var msg_type = msg['type'];\n",
       "\n",
       "        // Call the  \"handle_{type}\" callback, which takes\n",
       "        // the figure and JSON message as its only arguments.\n",
       "        try {\n",
       "            var callback = fig[\"handle_\" + msg_type];\n",
       "        } catch (e) {\n",
       "            console.log(\"No handler for the '\" + msg_type + \"' message type: \", msg);\n",
       "            return;\n",
       "        }\n",
       "\n",
       "        if (callback) {\n",
       "            try {\n",
       "                // console.log(\"Handling '\" + msg_type + \"' message: \", msg);\n",
       "                callback(fig, msg);\n",
       "            } catch (e) {\n",
       "                console.log(\"Exception inside the 'handler_\" + msg_type + \"' callback:\", e, e.stack, msg);\n",
       "            }\n",
       "        }\n",
       "    };\n",
       "}\n",
       "\n",
       "// from http://stackoverflow.com/questions/1114465/getting-mouse-location-in-canvas\n",
       "mpl.findpos = function(e) {\n",
       "    //this section is from http://www.quirksmode.org/js/events_properties.html\n",
       "    var targ;\n",
       "    if (!e)\n",
       "        e = window.event;\n",
       "    if (e.target)\n",
       "        targ = e.target;\n",
       "    else if (e.srcElement)\n",
       "        targ = e.srcElement;\n",
       "    if (targ.nodeType == 3) // defeat Safari bug\n",
       "        targ = targ.parentNode;\n",
       "\n",
       "    // jQuery normalizes the pageX and pageY\n",
       "    // pageX,Y are the mouse positions relative to the document\n",
       "    // offset() returns the position of the element relative to the document\n",
       "    var x = e.pageX - $(targ).offset().left;\n",
       "    var y = e.pageY - $(targ).offset().top;\n",
       "\n",
       "    return {\"x\": x, \"y\": y};\n",
       "};\n",
       "\n",
       "/*\n",
       " * return a copy of an object with only non-object keys\n",
       " * we need this to avoid circular references\n",
       " * http://stackoverflow.com/a/24161582/3208463\n",
       " */\n",
       "function simpleKeys (original) {\n",
       "  return Object.keys(original).reduce(function (obj, key) {\n",
       "    if (typeof original[key] !== 'object')\n",
       "        obj[key] = original[key]\n",
       "    return obj;\n",
       "  }, {});\n",
       "}\n",
       "\n",
       "mpl.figure.prototype.mouse_event = function(event, name) {\n",
       "    var canvas_pos = mpl.findpos(event)\n",
       "\n",
       "    if (name === 'button_press')\n",
       "    {\n",
       "        this.canvas.focus();\n",
       "        this.canvas_div.focus();\n",
       "    }\n",
       "\n",
       "    var x = canvas_pos.x;\n",
       "    var y = canvas_pos.y;\n",
       "\n",
       "    this.send_message(name, {x: x, y: y, button: event.button,\n",
       "                             step: event.step,\n",
       "                             guiEvent: simpleKeys(event)});\n",
       "\n",
       "    /* This prevents the web browser from automatically changing to\n",
       "     * the text insertion cursor when the button is pressed.  We want\n",
       "     * to control all of the cursor setting manually through the\n",
       "     * 'cursor' event from matplotlib */\n",
       "    event.preventDefault();\n",
       "    return false;\n",
       "}\n",
       "\n",
       "mpl.figure.prototype._key_event_extra = function(event, name) {\n",
       "    // Handle any extra behaviour associated with a key event\n",
       "}\n",
       "\n",
       "mpl.figure.prototype.key_event = function(event, name) {\n",
       "\n",
       "    // Prevent repeat events\n",
       "    if (name == 'key_press')\n",
       "    {\n",
       "        if (event.which === this._key)\n",
       "            return;\n",
       "        else\n",
       "            this._key = event.which;\n",
       "    }\n",
       "    if (name == 'key_release')\n",
       "        this._key = null;\n",
       "\n",
       "    var value = '';\n",
       "    if (event.ctrlKey && event.which != 17)\n",
       "        value += \"ctrl+\";\n",
       "    if (event.altKey && event.which != 18)\n",
       "        value += \"alt+\";\n",
       "    if (event.shiftKey && event.which != 16)\n",
       "        value += \"shift+\";\n",
       "\n",
       "    value += 'k';\n",
       "    value += event.which.toString();\n",
       "\n",
       "    this._key_event_extra(event, name);\n",
       "\n",
       "    this.send_message(name, {key: value,\n",
       "                             guiEvent: simpleKeys(event)});\n",
       "    return false;\n",
       "}\n",
       "\n",
       "mpl.figure.prototype.toolbar_button_onclick = function(name) {\n",
       "    if (name == 'download') {\n",
       "        this.handle_save(this, null);\n",
       "    } else {\n",
       "        this.send_message(\"toolbar_button\", {name: name});\n",
       "    }\n",
       "};\n",
       "\n",
       "mpl.figure.prototype.toolbar_button_onmouseover = function(tooltip) {\n",
       "    this.message.textContent = tooltip;\n",
       "};\n",
       "mpl.toolbar_items = [[\"Home\", \"Reset original view\", \"fa fa-home icon-home\", \"home\"], [\"Back\", \"Back to  previous view\", \"fa fa-arrow-left icon-arrow-left\", \"back\"], [\"Forward\", \"Forward to next view\", \"fa fa-arrow-right icon-arrow-right\", \"forward\"], [\"\", \"\", \"\", \"\"], [\"Pan\", \"Pan axes with left mouse, zoom with right\", \"fa fa-arrows icon-move\", \"pan\"], [\"Zoom\", \"Zoom to rectangle\", \"fa fa-square-o icon-check-empty\", \"zoom\"], [\"\", \"\", \"\", \"\"], [\"Download\", \"Download plot\", \"fa fa-floppy-o icon-save\", \"download\"]];\n",
       "\n",
       "mpl.extensions = [\"eps\", \"jpeg\", \"pdf\", \"png\", \"ps\", \"raw\", \"svg\", \"tif\"];\n",
       "\n",
       "mpl.default_extension = \"png\";var comm_websocket_adapter = function(comm) {\n",
       "    // Create a \"websocket\"-like object which calls the given IPython comm\n",
       "    // object with the appropriate methods. Currently this is a non binary\n",
       "    // socket, so there is still some room for performance tuning.\n",
       "    var ws = {};\n",
       "\n",
       "    ws.close = function() {\n",
       "        comm.close()\n",
       "    };\n",
       "    ws.send = function(m) {\n",
       "        //console.log('sending', m);\n",
       "        comm.send(m);\n",
       "    };\n",
       "    // Register the callback with on_msg.\n",
       "    comm.on_msg(function(msg) {\n",
       "        //console.log('receiving', msg['content']['data'], msg);\n",
       "        // Pass the mpl event to the overriden (by mpl) onmessage function.\n",
       "        ws.onmessage(msg['content']['data'])\n",
       "    });\n",
       "    return ws;\n",
       "}\n",
       "\n",
       "mpl.mpl_figure_comm = function(comm, msg) {\n",
       "    // This is the function which gets called when the mpl process\n",
       "    // starts-up an IPython Comm through the \"matplotlib\" channel.\n",
       "\n",
       "    var id = msg.content.data.id;\n",
       "    // Get hold of the div created by the display call when the Comm\n",
       "    // socket was opened in Python.\n",
       "    var element = $(\"#\" + id);\n",
       "    var ws_proxy = comm_websocket_adapter(comm)\n",
       "\n",
       "    function ondownload(figure, format) {\n",
       "        window.open(figure.imageObj.src);\n",
       "    }\n",
       "\n",
       "    var fig = new mpl.figure(id, ws_proxy,\n",
       "                           ondownload,\n",
       "                           element.get(0));\n",
       "\n",
       "    // Call onopen now - mpl needs it, as it is assuming we've passed it a real\n",
       "    // web socket which is closed, not our websocket->open comm proxy.\n",
       "    ws_proxy.onopen();\n",
       "\n",
       "    fig.parent_element = element.get(0);\n",
       "    fig.cell_info = mpl.find_output_cell(\"<div id='\" + id + \"'></div>\");\n",
       "    if (!fig.cell_info) {\n",
       "        console.error(\"Failed to find cell for figure\", id, fig);\n",
       "        return;\n",
       "    }\n",
       "\n",
       "    var output_index = fig.cell_info[2]\n",
       "    var cell = fig.cell_info[0];\n",
       "\n",
       "};\n",
       "\n",
       "mpl.figure.prototype.handle_close = function(fig, msg) {\n",
       "    fig.root.unbind('remove')\n",
       "\n",
       "    // Update the output cell to use the data from the current canvas.\n",
       "    fig.push_to_output();\n",
       "    var dataURL = fig.canvas.toDataURL();\n",
       "    // Re-enable the keyboard manager in IPython - without this line, in FF,\n",
       "    // the notebook keyboard shortcuts fail.\n",
       "    IPython.keyboard_manager.enable()\n",
       "    $(fig.parent_element).html('<img src=\"' + dataURL + '\">');\n",
       "    fig.close_ws(fig, msg);\n",
       "}\n",
       "\n",
       "mpl.figure.prototype.close_ws = function(fig, msg){\n",
       "    fig.send_message('closing', msg);\n",
       "    // fig.ws.close()\n",
       "}\n",
       "\n",
       "mpl.figure.prototype.push_to_output = function(remove_interactive) {\n",
       "    // Turn the data on the canvas into data in the output cell.\n",
       "    var dataURL = this.canvas.toDataURL();\n",
       "    this.cell_info[1]['text/html'] = '<img src=\"' + dataURL + '\">';\n",
       "}\n",
       "\n",
       "mpl.figure.prototype.updated_canvas_event = function() {\n",
       "    // Tell IPython that the notebook contents must change.\n",
       "    IPython.notebook.set_dirty(true);\n",
       "    this.send_message(\"ack\", {});\n",
       "    var fig = this;\n",
       "    // Wait a second, then push the new image to the DOM so\n",
       "    // that it is saved nicely (might be nice to debounce this).\n",
       "    setTimeout(function () { fig.push_to_output() }, 1000);\n",
       "}\n",
       "\n",
       "mpl.figure.prototype._init_toolbar = function() {\n",
       "    var fig = this;\n",
       "\n",
       "    var nav_element = $('<div/>')\n",
       "    nav_element.attr('style', 'width: 100%');\n",
       "    this.root.append(nav_element);\n",
       "\n",
       "    // Define a callback function for later on.\n",
       "    function toolbar_event(event) {\n",
       "        return fig.toolbar_button_onclick(event['data']);\n",
       "    }\n",
       "    function toolbar_mouse_event(event) {\n",
       "        return fig.toolbar_button_onmouseover(event['data']);\n",
       "    }\n",
       "\n",
       "    for(var toolbar_ind in mpl.toolbar_items){\n",
       "        var name = mpl.toolbar_items[toolbar_ind][0];\n",
       "        var tooltip = mpl.toolbar_items[toolbar_ind][1];\n",
       "        var image = mpl.toolbar_items[toolbar_ind][2];\n",
       "        var method_name = mpl.toolbar_items[toolbar_ind][3];\n",
       "\n",
       "        if (!name) { continue; };\n",
       "\n",
       "        var button = $('<button class=\"btn btn-default\" href=\"#\" title=\"' + name + '\"><i class=\"fa ' + image + ' fa-lg\"></i></button>');\n",
       "        button.click(method_name, toolbar_event);\n",
       "        button.mouseover(tooltip, toolbar_mouse_event);\n",
       "        nav_element.append(button);\n",
       "    }\n",
       "\n",
       "    // Add the status bar.\n",
       "    var status_bar = $('<span class=\"mpl-message\" style=\"text-align:right; float: right;\"/>');\n",
       "    nav_element.append(status_bar);\n",
       "    this.message = status_bar[0];\n",
       "\n",
       "    // Add the close button to the window.\n",
       "    var buttongrp = $('<div class=\"btn-group inline pull-right\"></div>');\n",
       "    var button = $('<button class=\"btn btn-mini btn-primary\" href=\"#\" title=\"Stop Interaction\"><i class=\"fa fa-power-off icon-remove icon-large\"></i></button>');\n",
       "    button.click(function (evt) { fig.handle_close(fig, {}); } );\n",
       "    button.mouseover('Stop Interaction', toolbar_mouse_event);\n",
       "    buttongrp.append(button);\n",
       "    var titlebar = this.root.find($('.ui-dialog-titlebar'));\n",
       "    titlebar.prepend(buttongrp);\n",
       "}\n",
       "\n",
       "mpl.figure.prototype._root_extra_style = function(el){\n",
       "    var fig = this\n",
       "    el.on(\"remove\", function(){\n",
       "\tfig.close_ws(fig, {});\n",
       "    });\n",
       "}\n",
       "\n",
       "mpl.figure.prototype._canvas_extra_style = function(el){\n",
       "    // this is important to make the div 'focusable\n",
       "    el.attr('tabindex', 0)\n",
       "    // reach out to IPython and tell the keyboard manager to turn it's self\n",
       "    // off when our div gets focus\n",
       "\n",
       "    // location in version 3\n",
       "    if (IPython.notebook.keyboard_manager) {\n",
       "        IPython.notebook.keyboard_manager.register_events(el);\n",
       "    }\n",
       "    else {\n",
       "        // location in version 2\n",
       "        IPython.keyboard_manager.register_events(el);\n",
       "    }\n",
       "\n",
       "}\n",
       "\n",
       "mpl.figure.prototype._key_event_extra = function(event, name) {\n",
       "    var manager = IPython.notebook.keyboard_manager;\n",
       "    if (!manager)\n",
       "        manager = IPython.keyboard_manager;\n",
       "\n",
       "    // Check for shift+enter\n",
       "    if (event.shiftKey && event.which == 13) {\n",
       "        this.canvas_div.blur();\n",
       "        event.shiftKey = false;\n",
       "        // Send a \"J\" for go to next cell\n",
       "        event.which = 74;\n",
       "        event.keyCode = 74;\n",
       "        manager.command_mode();\n",
       "        manager.handle_keydown(event);\n",
       "    }\n",
       "}\n",
       "\n",
       "mpl.figure.prototype.handle_save = function(fig, msg) {\n",
       "    fig.ondownload(fig, null);\n",
       "}\n",
       "\n",
       "\n",
       "mpl.find_output_cell = function(html_output) {\n",
       "    // Return the cell and output element which can be found *uniquely* in the notebook.\n",
       "    // Note - this is a bit hacky, but it is done because the \"notebook_saving.Notebook\"\n",
       "    // IPython event is triggered only after the cells have been serialised, which for\n",
       "    // our purposes (turning an active figure into a static one), is too late.\n",
       "    var cells = IPython.notebook.get_cells();\n",
       "    var ncells = cells.length;\n",
       "    for (var i=0; i<ncells; i++) {\n",
       "        var cell = cells[i];\n",
       "        if (cell.cell_type === 'code'){\n",
       "            for (var j=0; j<cell.output_area.outputs.length; j++) {\n",
       "                var data = cell.output_area.outputs[j];\n",
       "                if (data.data) {\n",
       "                    // IPython >= 3 moved mimebundle to data attribute of output\n",
       "                    data = data.data;\n",
       "                }\n",
       "                if (data['text/html'] == html_output) {\n",
       "                    return [cell, data, j];\n",
       "                }\n",
       "            }\n",
       "        }\n",
       "    }\n",
       "}\n",
       "\n",
       "// Register the function which deals with the matplotlib target/channel.\n",
       "// The kernel may be null if the page has been refreshed.\n",
       "if (IPython.notebook.kernel != null) {\n",
       "    IPython.notebook.kernel.comm_manager.register_target('matplotlib', mpl.mpl_figure_comm);\n",
       "}\n"
      ],
      "text/plain": [
       "<IPython.core.display.Javascript object>"
      ]
     },
     "metadata": {},
     "output_type": "display_data"
    },
    {
     "data": {
      "text/html": [
       "<img src=\"data:image/png;base64,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\">"
      ],
      "text/plain": [
       "<IPython.core.display.HTML object>"
      ]
     },
     "metadata": {},
     "output_type": "display_data"
    }
   ],
   "source": [
    "fig = plt.figure()\n",
    "ax = fig.add_subplot(111, projection='3d')"
   ]
  },
  {
   "cell_type": "code",
   "execution_count": 157,
   "metadata": {
    "collapsed": false
   },
   "outputs": [],
   "source": [
    "for color, marker, points in [[\"b\", \"o\", tdm_3d[:80].T], [\"r\", \"^\", tdm_3d[80:120].T]]:\n",
    "    x, y, z = points\n",
    "    ax.scatter3D(x, y, z, c= color, marker = marker)"
   ]
  },
  {
   "cell_type": "markdown",
   "metadata": {},
   "source": [
    "## 隨機抽取 15 章"
   ]
  },
  {
   "cell_type": "code",
   "execution_count": 178,
   "metadata": {
    "collapsed": true
   },
   "outputs": [],
   "source": [
    "from random import sample, seed"
   ]
  },
  {
   "cell_type": "code",
   "execution_count": 181,
   "metadata": {
    "collapsed": false
   },
   "outputs": [],
   "source": [
    "seed(5566)\n",
    "first80 = sorted(sample(range(80), 15))\n",
    "last40 = sorted(sample(range(80,120), 15))"
   ]
  },
  {
   "cell_type": "code",
   "execution_count": 182,
   "metadata": {
    "collapsed": false
   },
   "outputs": [
    {
     "data": {
      "text/plain": [
       "[1, 5, 8, 9, 12, 18, 22, 28, 31, 35, 39, 45, 50, 52, 59]"
      ]
     },
     "execution_count": 182,
     "metadata": {},
     "output_type": "execute_result"
    }
   ],
   "source": [
    "first80"
   ]
  },
  {
   "cell_type": "code",
   "execution_count": 183,
   "metadata": {
    "collapsed": false
   },
   "outputs": [
    {
     "data": {
      "text/plain": [
       "[83, 87, 92, 98, 101, 103, 106, 108, 109, 113, 115, 116, 117, 118, 119]"
      ]
     },
     "execution_count": 183,
     "metadata": {},
     "output_type": "execute_result"
    }
   ],
   "source": [
    "last40"
   ]
  },
  {
   "cell_type": "code",
   "execution_count": 186,
   "metadata": {
    "collapsed": false
   },
   "outputs": [],
   "source": [
    "sampled_chapters = first80 +last40"
   ]
  },
  {
   "cell_type": "code",
   "execution_count": 187,
   "metadata": {
    "collapsed": false
   },
   "outputs": [
    {
     "data": {
      "text/plain": [
       "(30, 278)"
      ]
     },
     "execution_count": 187,
     "metadata": {},
     "output_type": "execute_result"
    }
   ],
   "source": [
    "x_train = tdm[sampled_chapters]\n",
    "x_train.shape"
   ]
  },
  {
   "cell_type": "code",
   "execution_count": 189,
   "metadata": {
    "collapsed": false
   },
   "outputs": [
    {
     "data": {
      "text/plain": [
       "[0,\n",
       " 0,\n",
       " 0,\n",
       " 0,\n",
       " 0,\n",
       " 0,\n",
       " 0,\n",
       " 0,\n",
       " 0,\n",
       " 0,\n",
       " 0,\n",
       " 0,\n",
       " 0,\n",
       " 0,\n",
       " 0,\n",
       " 1,\n",
       " 1,\n",
       " 1,\n",
       " 1,\n",
       " 1,\n",
       " 1,\n",
       " 1,\n",
       " 1,\n",
       " 1,\n",
       " 1,\n",
       " 1,\n",
       " 1,\n",
       " 1,\n",
       " 1,\n",
       " 1]"
      ]
     },
     "execution_count": 189,
     "metadata": {},
     "output_type": "execute_result"
    }
   ],
   "source": [
    "y_train = [0 for i in range(15)] + [1 for i in range(15)]\n",
    "y_train"
   ]
  },
  {
   "cell_type": "code",
   "execution_count": 191,
   "metadata": {
    "collapsed": false
   },
   "outputs": [],
   "source": [
    "from sklearn import svm"
   ]
  },
  {
   "cell_type": "code",
   "execution_count": 192,
   "metadata": {
    "collapsed": true
   },
   "outputs": [],
   "source": [
    "clf = svm.LinearSVC()"
   ]
  },
  {
   "cell_type": "code",
   "execution_count": 193,
   "metadata": {
    "collapsed": false
   },
   "outputs": [
    {
     "data": {
      "text/plain": [
       "LinearSVC(C=1.0, class_weight=None, dual=True, fit_intercept=True,\n",
       "     intercept_scaling=1, loss='squared_hinge', max_iter=1000,\n",
       "     multi_class='ovr', penalty='l2', random_state=None, tol=0.0001,\n",
       "     verbose=0)"
      ]
     },
     "execution_count": 193,
     "metadata": {},
     "output_type": "execute_result"
    }
   ],
   "source": [
    "clf.fit(x_train, y_train)"
   ]
  },
  {
   "cell_type": "code",
   "execution_count": 195,
   "metadata": {
    "collapsed": false
   },
   "outputs": [
    {
     "data": {
      "text/plain": [
       "array([0, 0, 0, 0, 0, 0, 0, 0, 0, 0, 0, 0, 0, 0, 0, 0, 0, 0, 0, 0, 0, 0, 0,\n",
       "       0, 0, 0, 0, 0, 0, 0, 0, 0, 0, 1, 0, 0, 0, 0, 0, 0, 0, 0, 0, 0, 0, 0,\n",
       "       0, 0, 0, 0, 0, 0, 0, 0, 0, 0, 0, 0, 0, 0, 0, 0, 0, 0, 0, 0, 1, 0, 0,\n",
       "       0, 0, 0, 0, 0, 0, 0, 0, 0, 0, 0, 1, 1, 1, 1, 1, 1, 0, 1, 1, 1, 1, 1,\n",
       "       1, 1, 1, 1, 1, 1, 1, 1, 1, 1, 1, 1, 1, 1, 1, 1, 1, 1, 1, 1, 1, 1, 1,\n",
       "       1, 1, 1, 1, 1])"
      ]
     },
     "execution_count": 195,
     "metadata": {},
     "output_type": "execute_result"
    }
   ],
   "source": [
    "result = clf.predict(tdm)\n",
    "result"
   ]
  },
  {
   "cell_type": "code",
   "execution_count": 199,
   "metadata": {
    "collapsed": false
   },
   "outputs": [
    {
     "name": "stdout",
     "output_type": "stream",
     "text": [
      "前八十回正確預測： 78 章，正確率 0.975\n"
     ]
    }
   ],
   "source": [
    "first80_correct = sum([ i ==0 for i in  result[:80]])\n",
    "print \"前八十回正確預測： %s 章，正確率 %s\" % (first80_correct, float(first80_correct)/80)"
   ]
  },
  {
   "cell_type": "code",
   "execution_count": 201,
   "metadata": {
    "collapsed": false
   },
   "outputs": [
    {
     "name": "stdout",
     "output_type": "stream",
     "text": [
      "後四十回正確預測： 39 章，正確率 0.975\n"
     ]
    }
   ],
   "source": [
    "last40_correct = sum([ i ==1 for i in  result[80:]])\n",
    "print \"後四十回正確預測： %s 章，正確率 %s\" % (last40_correct, float(last40_correct)/40)"
   ]
  }
 ],
 "metadata": {
  "kernelspec": {
   "display_name": "Python 2",
   "language": "python",
   "name": "python2"
  },
  "language_info": {
   "codemirror_mode": {
    "name": "ipython",
    "version": 2
   },
   "file_extension": ".py",
   "mimetype": "text/x-python",
   "name": "python",
   "nbconvert_exporter": "python",
   "pygments_lexer": "ipython2",
   "version": "2.7.6"
  }
 },
 "nbformat": 4,
 "nbformat_minor": 0
}
